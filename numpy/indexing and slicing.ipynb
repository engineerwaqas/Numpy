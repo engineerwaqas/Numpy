{
 "cells": [
  {
   "cell_type": "code",
   "execution_count": 2,
   "metadata": {},
   "outputs": [],
   "source": [
    "import numpy as np"
   ]
  },
  {
   "cell_type": "code",
   "execution_count": 3,
   "metadata": {},
   "outputs": [],
   "source": [
    "x = np.array([4,8,9,10,15]) #made array using list"
   ]
  },
  {
   "cell_type": "code",
   "execution_count": 4,
   "metadata": {},
   "outputs": [
    {
     "data": {
      "text/plain": [
       "15"
      ]
     },
     "execution_count": 4,
     "metadata": {},
     "output_type": "execute_result"
    }
   ],
   "source": [
    "x[4]"
   ]
  },
  {
   "cell_type": "code",
   "execution_count": 5,
   "metadata": {},
   "outputs": [
    {
     "data": {
      "text/plain": [
       "array([False,  True,  True,  True,  True])"
      ]
     },
     "execution_count": 5,
     "metadata": {},
     "output_type": "execute_result"
    }
   ],
   "source": [
    "x>5"
   ]
  },
  {
   "cell_type": "code",
   "execution_count": 6,
   "metadata": {},
   "outputs": [
    {
     "data": {
      "text/plain": [
       "array([ 8,  9, 10, 15])"
      ]
     },
     "execution_count": 6,
     "metadata": {},
     "output_type": "execute_result"
    }
   ],
   "source": [
    "x[x>5] #passed on boolean to x itself. now it will show which elements are > 5"
   ]
  },
  {
   "cell_type": "code",
   "execution_count": 9,
   "metadata": {},
   "outputs": [
    {
     "data": {
      "text/plain": [
       "array([9, 8])"
      ]
     },
     "execution_count": 9,
     "metadata": {},
     "output_type": "execute_result"
    }
   ],
   "source": [
    "x[[2,1]] #this is called fancing indexing"
   ]
  },
  {
   "cell_type": "code",
   "execution_count": 10,
   "metadata": {},
   "outputs": [],
   "source": [
    "x=np.random.randn(10,10)"
   ]
  },
  {
   "cell_type": "code",
   "execution_count": 11,
   "metadata": {},
   "outputs": [
    {
     "data": {
      "text/plain": [
       "array([[-0.5708737 ,  1.95338781, -0.39166688, -0.66185655, -0.00348553,\n",
       "        -1.47773663, -0.85182475, -1.46220918,  2.05454244, -1.33458029],\n",
       "       [-0.39292569,  0.09385884, -0.77124237, -1.06063177, -1.23516031,\n",
       "        -0.55366202,  0.87694192,  0.77174904, -0.8855027 , -0.79611863],\n",
       "       [-1.03442462,  0.10675667, -0.99758787, -0.6164984 ,  0.69860127,\n",
       "        -0.88958208,  0.15634104, -0.25255295, -0.15794914, -2.28836458],\n",
       "       [ 0.13792665, -0.51819549, -0.12025915,  0.73543038,  0.3630615 ,\n",
       "        -1.29733802,  0.66979757,  2.73315322, -0.51335009,  1.91080052],\n",
       "       [ 0.56637726, -0.94690803,  0.41250245, -1.53624357, -1.76750129,\n",
       "        -1.05040851,  0.04110985, -0.17522451,  0.28075979,  0.43710008],\n",
       "       [ 1.71674305, -0.91506851,  1.94243592, -0.07077554, -2.11829   ,\n",
       "         1.87120679,  0.68043464, -0.43316998, -0.27158051, -0.8916338 ],\n",
       "       [-0.41345905, -1.59009657,  0.23033683,  0.22494218, -0.54266612,\n",
       "         1.02746446, -0.40092876, -0.37565896, -0.17982023, -0.66753779],\n",
       "       [ 1.00031129, -0.60477783, -0.2320907 ,  0.51631953, -1.42704976,\n",
       "        -0.31051342, -0.29174992, -0.46689482, -0.85088531, -0.80095533],\n",
       "       [ 0.7152033 ,  1.31193533,  0.14838248,  0.69163887,  1.97565568,\n",
       "        -0.01912575, -1.09678796, -1.28438527,  1.37814321, -1.60132738],\n",
       "       [ 1.43193026, -0.69921245, -1.81060821,  2.18623008, -0.04566991,\n",
       "         1.10690998,  0.35037926, -1.22335142, -1.2807654 , -0.19750676]])"
      ]
     },
     "execution_count": 11,
     "metadata": {},
     "output_type": "execute_result"
    }
   ],
   "source": [
    "x"
   ]
  },
  {
   "cell_type": "code",
   "execution_count": 12,
   "metadata": {},
   "outputs": [
    {
     "data": {
      "text/plain": [
       "array([-0.5708737 ,  1.95338781, -0.39166688, -0.66185655, -0.00348553,\n",
       "       -1.47773663, -0.85182475, -1.46220918,  2.05454244, -1.33458029])"
      ]
     },
     "execution_count": 12,
     "metadata": {},
     "output_type": "execute_result"
    }
   ],
   "source": [
    "x[0]"
   ]
  },
  {
   "cell_type": "code",
   "execution_count": 14,
   "metadata": {},
   "outputs": [
    {
     "data": {
      "text/plain": [
       "-0.0034855306454235372"
      ]
     },
     "execution_count": 14,
     "metadata": {},
     "output_type": "execute_result"
    }
   ],
   "source": [
    "x[0][4] #we will have 1st row's fifth element as o/p"
   ]
  },
  {
   "cell_type": "code",
   "execution_count": 15,
   "metadata": {},
   "outputs": [
    {
     "data": {
      "text/plain": [
       "array([[-0.39292569,  0.09385884, -0.77124237, -1.06063177, -1.23516031,\n",
       "        -0.55366202,  0.87694192,  0.77174904, -0.8855027 , -0.79611863],\n",
       "       [ 0.13792665, -0.51819549, -0.12025915,  0.73543038,  0.3630615 ,\n",
       "        -1.29733802,  0.66979757,  2.73315322, -0.51335009,  1.91080052],\n",
       "       [ 1.71674305, -0.91506851,  1.94243592, -0.07077554, -2.11829   ,\n",
       "         1.87120679,  0.68043464, -0.43316998, -0.27158051, -0.8916338 ],\n",
       "       [ 1.00031129, -0.60477783, -0.2320907 ,  0.51631953, -1.42704976,\n",
       "        -0.31051342, -0.29174992, -0.46689482, -0.85088531, -0.80095533],\n",
       "       [ 1.43193026, -0.69921245, -1.81060821,  2.18623008, -0.04566991,\n",
       "         1.10690998,  0.35037926, -1.22335142, -1.2807654 , -0.19750676]])"
      ]
     },
     "execution_count": 15,
     "metadata": {},
     "output_type": "execute_result"
    }
   ],
   "source": [
    "x[1:10:2]  # we want odd elements. so 1to 10 with step size 2 and of every column will be the o/p"
   ]
  },
  {
   "cell_type": "code",
   "execution_count": 19,
   "metadata": {},
   "outputs": [
    {
     "data": {
      "text/plain": [
       "array([[-0.5708737 ,  1.95338781, -0.39166688, -0.66185655],\n",
       "       [-0.39292569,  0.09385884, -0.77124237, -1.06063177],\n",
       "       [-1.03442462,  0.10675667, -0.99758787, -0.6164984 ],\n",
       "       [ 0.13792665, -0.51819549, -0.12025915,  0.73543038],\n",
       "       [ 0.56637726, -0.94690803,  0.41250245, -1.53624357],\n",
       "       [ 1.71674305, -0.91506851,  1.94243592, -0.07077554],\n",
       "       [-0.41345905, -1.59009657,  0.23033683,  0.22494218],\n",
       "       [ 1.00031129, -0.60477783, -0.2320907 ,  0.51631953],\n",
       "       [ 0.7152033 ,  1.31193533,  0.14838248,  0.69163887],\n",
       "       [ 1.43193026, -0.69921245, -1.81060821,  2.18623008]])"
      ]
     },
     "execution_count": 19,
     "metadata": {},
     "output_type": "execute_result"
    }
   ],
   "source": [
    "x[::,0:4] #will give all rows but 0 to 4 columns"
   ]
  },
  {
   "cell_type": "code",
   "execution_count": 18,
   "metadata": {},
   "outputs": [
    {
     "data": {
      "text/plain": [
       "array([[-0.5708737 ,  1.95338781, -0.39166688, -0.66185655, -0.00348553,\n",
       "        -1.47773663, -0.85182475, -1.46220918,  2.05454244, -1.33458029],\n",
       "       [-0.39292569,  0.09385884, -0.77124237, -1.06063177, -1.23516031,\n",
       "        -0.55366202,  0.87694192,  0.77174904, -0.8855027 , -0.79611863],\n",
       "       [-1.03442462,  0.10675667, -0.99758787, -0.6164984 ,  0.69860127,\n",
       "        -0.88958208,  0.15634104, -0.25255295, -0.15794914, -2.28836458],\n",
       "       [ 0.13792665, -0.51819549, -0.12025915,  0.73543038,  0.3630615 ,\n",
       "        -1.29733802,  0.66979757,  2.73315322, -0.51335009,  1.91080052],\n",
       "       [ 0.56637726, -0.94690803,  0.41250245, -1.53624357, -1.76750129,\n",
       "        -1.05040851,  0.04110985, -0.17522451,  0.28075979,  0.43710008],\n",
       "       [ 1.71674305, -0.91506851,  1.94243592, -0.07077554, -2.11829   ,\n",
       "         1.87120679,  0.68043464, -0.43316998, -0.27158051, -0.8916338 ],\n",
       "       [-0.41345905, -1.59009657,  0.23033683,  0.22494218, -0.54266612,\n",
       "         1.02746446, -0.40092876, -0.37565896, -0.17982023, -0.66753779],\n",
       "       [ 1.00031129, -0.60477783, -0.2320907 ,  0.51631953, -1.42704976,\n",
       "        -0.31051342, -0.29174992, -0.46689482, -0.85088531, -0.80095533],\n",
       "       [ 0.7152033 ,  1.31193533,  0.14838248,  0.69163887,  1.97565568,\n",
       "        -0.01912575, -1.09678796, -1.28438527,  1.37814321, -1.60132738],\n",
       "       [ 1.43193026, -0.69921245, -1.81060821,  2.18623008, -0.04566991,\n",
       "         1.10690998,  0.35037926, -1.22335142, -1.2807654 , -0.19750676]])"
      ]
     },
     "execution_count": 18,
     "metadata": {},
     "output_type": "execute_result"
    }
   ],
   "source": [
    "x"
   ]
  },
  {
   "cell_type": "markdown",
   "metadata": {},
   "source": [
    "# making a square with borders having 1s"
   ]
  },
  {
   "cell_type": "code",
   "execution_count": 21,
   "metadata": {},
   "outputs": [],
   "source": [
    "x=np.ones((5,5))"
   ]
  },
  {
   "cell_type": "code",
   "execution_count": 22,
   "metadata": {},
   "outputs": [
    {
     "data": {
      "text/plain": [
       "array([[1., 1., 1., 1., 1.],\n",
       "       [1., 1., 1., 1., 1.],\n",
       "       [1., 1., 1., 1., 1.],\n",
       "       [1., 1., 1., 1., 1.],\n",
       "       [1., 1., 1., 1., 1.]])"
      ]
     },
     "execution_count": 22,
     "metadata": {},
     "output_type": "execute_result"
    }
   ],
   "source": [
    "x"
   ]
  },
  {
   "cell_type": "code",
   "execution_count": 30,
   "metadata": {},
   "outputs": [],
   "source": [
    "x[1:4,0:3]"
   ]
  },
  {
   "cell_type": "code",
   "execution_count": 31,
   "metadata": {},
   "outputs": [
    {
     "data": {
      "text/plain": [
       "array([[0., 0., 0.],\n",
       "       [0., 0., 0.],\n",
       "       [0., 0., 0.],\n",
       "       [0., 0., 0.]])"
      ]
     },
     "execution_count": 31,
     "metadata": {},
     "output_type": "execute_result"
    }
   ],
   "source": []
  },
  {
   "cell_type": "code",
   "execution_count": 29,
   "metadata": {},
   "outputs": [
    {
     "data": {
      "text/plain": [
       "array([[1., 1., 1., 1., 1.],\n",
       "       [1., 1., 1., 1., 1.],\n",
       "       [1., 1., 1., 1., 1.],\n",
       "       [1., 1., 1., 1., 1.],\n",
       "       [1., 1., 1., 1., 1.]])"
      ]
     },
     "execution_count": 29,
     "metadata": {},
     "output_type": "execute_result"
    }
   ],
   "source": [
    "x"
   ]
  },
  {
   "cell_type": "code",
   "execution_count": 38,
   "metadata": {},
   "outputs": [],
   "source": [
    "x[1:-1,1:-1]=0"
   ]
  },
  {
   "cell_type": "code",
   "execution_count": 37,
   "metadata": {},
   "outputs": [
    {
     "data": {
      "text/plain": [
       "array([[1., 1., 1., 1., 1.],\n",
       "       [1., 0., 0., 0., 1.],\n",
       "       [1., 0., 0., 0., 1.],\n",
       "       [1., 0., 0., 0., 1.],\n",
       "       [1., 1., 1., 1., 1.]])"
      ]
     },
     "execution_count": 37,
     "metadata": {},
     "output_type": "execute_result"
    }
   ],
   "source": [
    "x"
   ]
  },
  {
   "cell_type": "markdown",
   "metadata": {},
   "source": [
    "# checkborad"
   ]
  },
  {
   "cell_type": "code",
   "execution_count": 80,
   "metadata": {},
   "outputs": [],
   "source": [
    "y=np.ones((5,5))"
   ]
  },
  {
   "cell_type": "code",
   "execution_count": null,
   "metadata": {},
   "outputs": [],
   "source": []
  },
  {
   "cell_type": "code",
   "execution_count": 81,
   "metadata": {},
   "outputs": [],
   "source": [
    "y[::,1:4:2]=0"
   ]
  },
  {
   "cell_type": "code",
   "execution_count": 82,
   "metadata": {},
   "outputs": [
    {
     "data": {
      "text/plain": [
       "array([[1., 0., 1., 0., 1.],\n",
       "       [1., 0., 1., 0., 1.],\n",
       "       [1., 0., 1., 0., 1.],\n",
       "       [1., 0., 1., 0., 1.],\n",
       "       [1., 0., 1., 0., 1.]])"
      ]
     },
     "execution_count": 82,
     "metadata": {},
     "output_type": "execute_result"
    }
   ],
   "source": [
    "y"
   ]
  },
  {
   "cell_type": "code",
   "execution_count": 83,
   "metadata": {},
   "outputs": [],
   "source": [
    "y[1:4:2,1:4:2]=1\n"
   ]
  },
  {
   "cell_type": "code",
   "execution_count": 84,
   "metadata": {},
   "outputs": [
    {
     "ename": "NameError",
     "evalue": "name 'Y' is not defined",
     "output_type": "error",
     "traceback": [
      "\u001b[1;31m---------------------------------------------------------------------------\u001b[0m",
      "\u001b[1;31mNameError\u001b[0m                                 Traceback (most recent call last)",
      "\u001b[1;32m<ipython-input-84-c881daf1af41>\u001b[0m in \u001b[0;36m<module>\u001b[1;34m\u001b[0m\n\u001b[1;32m----> 1\u001b[1;33m \u001b[0mY\u001b[0m\u001b[1;33m\u001b[0m\u001b[1;33m\u001b[0m\u001b[0m\n\u001b[0m",
      "\u001b[1;31mNameError\u001b[0m: name 'Y' is not defined"
     ]
    }
   ],
   "source": [
    "Y"
   ]
  },
  {
   "cell_type": "code",
   "execution_count": 85,
   "metadata": {},
   "outputs": [
    {
     "data": {
      "text/plain": [
       "array([[1., 0., 1., 0., 1.],\n",
       "       [1., 1., 1., 1., 1.],\n",
       "       [1., 0., 1., 0., 1.],\n",
       "       [1., 1., 1., 1., 1.],\n",
       "       [1., 0., 1., 0., 1.]])"
      ]
     },
     "execution_count": 85,
     "metadata": {},
     "output_type": "execute_result"
    }
   ],
   "source": [
    "y"
   ]
  },
  {
   "cell_type": "code",
   "execution_count": 88,
   "metadata": {},
   "outputs": [],
   "source": [
    "y[1:4:2,0:-1:2]=0"
   ]
  },
  {
   "cell_type": "code",
   "execution_count": 89,
   "metadata": {},
   "outputs": [
    {
     "data": {
      "text/plain": [
       "array([[1., 0., 1., 0., 1.],\n",
       "       [0., 1., 0., 1., 1.],\n",
       "       [1., 0., 1., 0., 1.],\n",
       "       [0., 1., 0., 1., 1.],\n",
       "       [1., 0., 1., 0., 1.]])"
      ]
     },
     "execution_count": 89,
     "metadata": {},
     "output_type": "execute_result"
    }
   ],
   "source": [
    "y"
   ]
  },
  {
   "cell_type": "code",
   "execution_count": 90,
   "metadata": {},
   "outputs": [],
   "source": [
    "y[1:4:2,::]=0"
   ]
  },
  {
   "cell_type": "code",
   "execution_count": 91,
   "metadata": {},
   "outputs": [
    {
     "data": {
      "text/plain": [
       "array([[1., 0., 1., 0., 1.],\n",
       "       [0., 0., 0., 0., 0.],\n",
       "       [1., 0., 1., 0., 1.],\n",
       "       [0., 0., 0., 0., 0.],\n",
       "       [1., 0., 1., 0., 1.]])"
      ]
     },
     "execution_count": 91,
     "metadata": {},
     "output_type": "execute_result"
    }
   ],
   "source": [
    "y"
   ]
  },
  {
   "cell_type": "code",
   "execution_count": 92,
   "metadata": {},
   "outputs": [],
   "source": [
    "z=np.ones((10,10))"
   ]
  },
  {
   "cell_type": "code",
   "execution_count": 93,
   "metadata": {},
   "outputs": [
    {
     "data": {
      "text/plain": [
       "array([[1., 1., 1., 1., 1., 1., 1., 1., 1., 1.],\n",
       "       [1., 1., 1., 1., 1., 1., 1., 1., 1., 1.],\n",
       "       [1., 1., 1., 1., 1., 1., 1., 1., 1., 1.],\n",
       "       [1., 1., 1., 1., 1., 1., 1., 1., 1., 1.],\n",
       "       [1., 1., 1., 1., 1., 1., 1., 1., 1., 1.],\n",
       "       [1., 1., 1., 1., 1., 1., 1., 1., 1., 1.],\n",
       "       [1., 1., 1., 1., 1., 1., 1., 1., 1., 1.],\n",
       "       [1., 1., 1., 1., 1., 1., 1., 1., 1., 1.],\n",
       "       [1., 1., 1., 1., 1., 1., 1., 1., 1., 1.],\n",
       "       [1., 1., 1., 1., 1., 1., 1., 1., 1., 1.]])"
      ]
     },
     "execution_count": 93,
     "metadata": {},
     "output_type": "execute_result"
    }
   ],
   "source": [
    "z"
   ]
  },
  {
   "cell_type": "code",
   "execution_count": 94,
   "metadata": {},
   "outputs": [
    {
     "data": {
      "text/plain": [
       "array([[1., 0., 1., 0., 1., 0., 1., 0., 1., 0.],\n",
       "       [0., 1., 0., 1., 0., 1., 0., 1., 0., 1.],\n",
       "       [1., 0., 1., 0., 1., 0., 1., 0., 1., 0.],\n",
       "       [0., 1., 0., 1., 0., 1., 0., 1., 0., 1.],\n",
       "       [1., 0., 1., 0., 1., 0., 1., 0., 1., 0.],\n",
       "       [0., 1., 0., 1., 0., 1., 0., 1., 0., 1.],\n",
       "       [1., 0., 1., 0., 1., 0., 1., 0., 1., 0.],\n",
       "       [0., 1., 0., 1., 0., 1., 0., 1., 0., 1.],\n",
       "       [1., 0., 1., 0., 1., 0., 1., 0., 1., 0.],\n",
       "       [0., 1., 0., 1., 0., 1., 0., 1., 0., 1.]])"
      ]
     },
     "execution_count": 94,
     "metadata": {},
     "output_type": "execute_result"
    }
   ],
   "source": [
    "z[0::2,1::2]=0\n",
    "z[1::2,0::2]=0\n",
    "z"
   ]
  },
  {
   "cell_type": "code",
   "execution_count": null,
   "metadata": {},
   "outputs": [],
   "source": []
  }
 ],
 "metadata": {
  "kernelspec": {
   "display_name": "Python 3",
   "language": "python",
   "name": "python3"
  },
  "language_info": {
   "codemirror_mode": {
    "name": "ipython",
    "version": 3
   },
   "file_extension": ".py",
   "mimetype": "text/x-python",
   "name": "python",
   "nbconvert_exporter": "python",
   "pygments_lexer": "ipython3",
   "version": "3.7.3"
  }
 },
 "nbformat": 4,
 "nbformat_minor": 2
}
