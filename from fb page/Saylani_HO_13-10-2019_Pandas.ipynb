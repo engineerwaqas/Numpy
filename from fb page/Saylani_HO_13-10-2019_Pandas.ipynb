{
 "cells": [
  {
   "cell_type": "code",
   "execution_count": 21,
   "metadata": {},
   "outputs": [],
   "source": [
    "import pandas as pd\n",
    "import numpy as np"
   ]
  },
  {
   "cell_type": "code",
   "execution_count": 38,
   "metadata": {},
   "outputs": [
    {
     "data": {
      "text/plain": [
       "a         11\n",
       "b        232\n",
       "c        357\n",
       "d        454\n",
       "True      55\n",
       "False     69\n",
       "dtype: int64"
      ]
     },
     "execution_count": 38,
     "metadata": {},
     "output_type": "execute_result"
    }
   ],
   "source": [
    "a = pd.Series([11,232,357,454,55,69], \n",
    "              index =['a', 'b', 'c', 'd', 'e','f'])\n",
    "a"
   ]
  },
  {
   "cell_type": "code",
   "execution_count": 28,
   "metadata": {},
   "outputs": [
    {
     "data": {
      "text/plain": [
       "array([ 11, 232, 357, 454,  55,  69], dtype=int64)"
      ]
     },
     "execution_count": 28,
     "metadata": {},
     "output_type": "execute_result"
    }
   ],
   "source": [
    "a.values"
   ]
  },
  {
   "cell_type": "code",
   "execution_count": 39,
   "metadata": {},
   "outputs": [
    {
     "data": {
      "text/plain": [
       "55"
      ]
     },
     "execution_count": 39,
     "metadata": {},
     "output_type": "execute_result"
    }
   ],
   "source": [
    "a['e']"
   ]
  },
  {
   "cell_type": "code",
   "execution_count": 30,
   "metadata": {},
   "outputs": [
    {
     "data": {
      "text/plain": [
       "Index(['a', 'b', 'c', 'd', 'e', 'f'], dtype='object')"
      ]
     },
     "execution_count": 30,
     "metadata": {},
     "output_type": "execute_result"
    }
   ],
   "source": [
    "a.index"
   ]
  },
  {
   "cell_type": "code",
   "execution_count": 40,
   "metadata": {},
   "outputs": [
    {
     "data": {
      "text/plain": [
       "b    232\n",
       "d    454\n",
       "dtype: int64"
      ]
     },
     "execution_count": 40,
     "metadata": {},
     "output_type": "execute_result"
    }
   ],
   "source": [
    "a[a%2 == 0] #even numbers"
   ]
  },
  {
   "cell_type": "code",
   "execution_count": 32,
   "metadata": {},
   "outputs": [
    {
     "data": {
      "text/plain": [
       "232"
      ]
     },
     "execution_count": 32,
     "metadata": {},
     "output_type": "execute_result"
    }
   ],
   "source": [
    "a['b']"
   ]
  },
  {
   "cell_type": "code",
   "execution_count": 33,
   "metadata": {},
   "outputs": [
    {
     "data": {
      "text/plain": [
       "c    357\n",
       "a     11\n",
       "f     69\n",
       "e     55\n",
       "dtype: int64"
      ]
     },
     "execution_count": 33,
     "metadata": {},
     "output_type": "execute_result"
    }
   ],
   "source": [
    "a[['c','a','f','e']]"
   ]
  },
  {
   "cell_type": "code",
   "execution_count": 34,
   "metadata": {},
   "outputs": [],
   "source": [
    "a['c'] = 100"
   ]
  },
  {
   "cell_type": "code",
   "execution_count": 36,
   "metadata": {},
   "outputs": [
    {
     "data": {
      "text/plain": [
       "b    232\n",
       "c    100\n",
       "d    454\n",
       "dtype: int64"
      ]
     },
     "execution_count": 36,
     "metadata": {},
     "output_type": "execute_result"
    }
   ],
   "source": [
    "a['b':'d']"
   ]
  },
  {
   "cell_type": "code",
   "execution_count": 19,
   "metadata": {},
   "outputs": [
    {
     "data": {
      "text/plain": [
       "b    232\n",
       "c    100\n",
       "d    454\n",
       "dtype: int64"
      ]
     },
     "execution_count": 19,
     "metadata": {},
     "output_type": "execute_result"
    }
   ],
   "source": [
    "a[1:4]"
   ]
  },
  {
   "cell_type": "code",
   "execution_count": 20,
   "metadata": {},
   "outputs": [
    {
     "data": {
      "text/plain": [
       "a     11\n",
       "b    232\n",
       "c    100\n",
       "d    454\n",
       "e     55\n",
       "f     69\n",
       "dtype: int64"
      ]
     },
     "execution_count": 20,
     "metadata": {},
     "output_type": "execute_result"
    }
   ],
   "source": [
    "a"
   ]
  },
  {
   "cell_type": "code",
   "execution_count": 22,
   "metadata": {},
   "outputs": [
    {
     "data": {
      "text/plain": [
       "0      1\n",
       "1      3\n",
       "2      5\n",
       "3      7\n",
       "4      9\n",
       "5     11\n",
       "6     13\n",
       "7     15\n",
       "8     17\n",
       "9     19\n",
       "10    21\n",
       "11    23\n",
       "12    25\n",
       "13    27\n",
       "14    29\n",
       "15    31\n",
       "16    33\n",
       "17    35\n",
       "18    37\n",
       "19    39\n",
       "20    41\n",
       "21    43\n",
       "22    45\n",
       "23    47\n",
       "24    49\n",
       "25    51\n",
       "26    53\n",
       "27    55\n",
       "28    57\n",
       "29    59\n",
       "30    61\n",
       "31    63\n",
       "32    65\n",
       "33    67\n",
       "34    69\n",
       "35    71\n",
       "36    73\n",
       "37    75\n",
       "38    77\n",
       "39    79\n",
       "40    81\n",
       "41    83\n",
       "42    85\n",
       "43    87\n",
       "44    89\n",
       "45    91\n",
       "46    93\n",
       "47    95\n",
       "48    97\n",
       "49    99\n",
       "dtype: int32"
      ]
     },
     "execution_count": 22,
     "metadata": {},
     "output_type": "execute_result"
    }
   ],
   "source": [
    "b = pd.Series(np.arange(1,101,2))\n",
    "b"
   ]
  },
  {
   "cell_type": "code",
   "execution_count": 24,
   "metadata": {},
   "outputs": [
    {
     "data": {
      "text/plain": [
       "0     1\n",
       "1     3\n",
       "2     5\n",
       "3     7\n",
       "4     9\n",
       "5    11\n",
       "6    13\n",
       "7    15\n",
       "8    17\n",
       "9    19\n",
       "dtype: int32"
      ]
     },
     "execution_count": 24,
     "metadata": {},
     "output_type": "execute_result"
    }
   ],
   "source": [
    "b[0:10]"
   ]
  },
  {
   "cell_type": "code",
   "execution_count": 41,
   "metadata": {},
   "outputs": [
    {
     "data": {
      "text/plain": [
       "6     11\n",
       "5    232\n",
       "4    357\n",
       "3    454\n",
       "2     55\n",
       "1     69\n",
       "dtype: int64"
      ]
     },
     "execution_count": 41,
     "metadata": {},
     "output_type": "execute_result"
    }
   ],
   "source": [
    "a = pd.Series([11,232,357,454,55,69], \n",
    "              index = np.arange(6,0,-1))\n",
    "a"
   ]
  },
  {
   "cell_type": "code",
   "execution_count": 45,
   "metadata": {},
   "outputs": [
    {
     "data": {
      "text/plain": [
       "11"
      ]
     },
     "execution_count": 45,
     "metadata": {},
     "output_type": "execute_result"
    }
   ],
   "source": [
    "a.iloc[0]"
   ]
  },
  {
   "cell_type": "code",
   "execution_count": 46,
   "metadata": {},
   "outputs": [
    {
     "data": {
      "text/plain": [
       "11"
      ]
     },
     "execution_count": 46,
     "metadata": {},
     "output_type": "execute_result"
    }
   ],
   "source": [
    "a.loc[6]"
   ]
  },
  {
   "cell_type": "code",
   "execution_count": 47,
   "metadata": {},
   "outputs": [
    {
     "data": {
      "text/plain": [
       "5    232\n",
       "3    454\n",
       "1     69\n",
       "dtype: int64"
      ]
     },
     "execution_count": 47,
     "metadata": {},
     "output_type": "execute_result"
    }
   ],
   "source": [
    "a[1::2]"
   ]
  },
  {
   "cell_type": "code",
   "execution_count": 48,
   "metadata": {},
   "outputs": [],
   "source": [
    "#Make a pandas series named marks and pass index = students name\n",
    "#total 5 students"
   ]
  },
  {
   "cell_type": "code",
   "execution_count": 49,
   "metadata": {},
   "outputs": [
    {
     "data": {
      "text/plain": [
       "Ali      60\n",
       "Ashad    30\n",
       "Umer     50\n",
       "Adeel    80\n",
       "Aqaib    70\n",
       "dtype: int64"
      ]
     },
     "execution_count": 49,
     "metadata": {},
     "output_type": "execute_result"
    }
   ],
   "source": [
    "b= pd.Series([60,30,50,80,70], index=['Ali', 'Ashad', 'Umer', 'Adeel', 'Aqaib'])\n",
    "b"
   ]
  },
  {
   "cell_type": "code",
   "execution_count": 51,
   "metadata": {},
   "outputs": [
    {
     "data": {
      "text/plain": [
       "Ali      90\n",
       "Ashad    30\n",
       "Umer     50\n",
       "Adeel    80\n",
       "Aqaib    70\n",
       "dtype: int64"
      ]
     },
     "execution_count": 51,
     "metadata": {},
     "output_type": "execute_result"
    }
   ],
   "source": [
    "b['Ali'] =90\n",
    "b"
   ]
  },
  {
   "cell_type": "code",
   "execution_count": 52,
   "metadata": {},
   "outputs": [
    {
     "data": {
      "text/plain": [
       "array([90, 30, 50, 80, 70], dtype=int64)"
      ]
     },
     "execution_count": 52,
     "metadata": {},
     "output_type": "execute_result"
    }
   ],
   "source": [
    "b.values"
   ]
  },
  {
   "cell_type": "code",
   "execution_count": 53,
   "metadata": {},
   "outputs": [
    {
     "data": {
      "text/plain": [
       "90"
      ]
     },
     "execution_count": 53,
     "metadata": {},
     "output_type": "execute_result"
    }
   ],
   "source": [
    "b[0]"
   ]
  },
  {
   "cell_type": "code",
   "execution_count": 55,
   "metadata": {},
   "outputs": [
    {
     "data": {
      "text/plain": [
       "Index(['Ali', 'Adeel'], dtype='object')"
      ]
     },
     "execution_count": 55,
     "metadata": {},
     "output_type": "execute_result"
    }
   ],
   "source": [
    "b[b>70].index #students with marks > 70"
   ]
  },
  {
   "cell_type": "code",
   "execution_count": 58,
   "metadata": {},
   "outputs": [
    {
     "data": {
      "text/plain": [
       "Ali      90\n",
       "Ashad    30\n",
       "Umer     50\n",
       "Adeel    80\n",
       "Aqaib    70\n",
       "dtype: int64"
      ]
     },
     "execution_count": 58,
     "metadata": {},
     "output_type": "execute_result"
    }
   ],
   "source": [
    "b*10\n",
    "b"
   ]
  },
  {
   "cell_type": "code",
   "execution_count": 59,
   "metadata": {},
   "outputs": [
    {
     "data": {
      "text/plain": [
       "True"
      ]
     },
     "execution_count": 59,
     "metadata": {},
     "output_type": "execute_result"
    }
   ],
   "source": [
    "'Ali' in b #checks if index is present"
   ]
  },
  {
   "cell_type": "code",
   "execution_count": 76,
   "metadata": {},
   "outputs": [],
   "source": [
    "#Generation of Series from dictionary\n",
    "dictionary = {'Ali': 90, 'Umer': 80, 'Adeel': 70, 'Aaqib': 31}"
   ]
  },
  {
   "cell_type": "code",
   "execution_count": 77,
   "metadata": {},
   "outputs": [
    {
     "data": {
      "text/plain": [
       "Ali      90\n",
       "Umer     80\n",
       "Adeel    70\n",
       "Aaqib    31\n",
       "dtype: int64"
      ]
     },
     "execution_count": 77,
     "metadata": {},
     "output_type": "execute_result"
    }
   ],
   "source": [
    "ser = pd.Series(dictionary)\n",
    "ser"
   ]
  },
  {
   "cell_type": "code",
   "execution_count": 78,
   "metadata": {},
   "outputs": [
    {
     "data": {
      "text/plain": [
       "31"
      ]
     },
     "execution_count": 78,
     "metadata": {},
     "output_type": "execute_result"
    }
   ],
   "source": [
    "ser['Aaqib']"
   ]
  },
  {
   "cell_type": "code",
   "execution_count": 79,
   "metadata": {},
   "outputs": [
    {
     "data": {
      "text/plain": [
       "Ali    90\n",
       "dtype: int64"
      ]
     },
     "execution_count": 79,
     "metadata": {},
     "output_type": "execute_result"
    }
   ],
   "source": [
    "#students with A\n",
    "ser[ser > 80]"
   ]
  },
  {
   "cell_type": "code",
   "execution_count": 80,
   "metadata": {},
   "outputs": [
    {
     "data": {
      "text/plain": [
       "Adeel    70\n",
       "dtype: int64"
      ]
     },
     "execution_count": 80,
     "metadata": {},
     "output_type": "execute_result"
    }
   ],
   "source": [
    "ser[ser>=70][ser<80] #filtering based on multiple conditions"
   ]
  },
  {
   "cell_type": "code",
   "execution_count": 81,
   "metadata": {},
   "outputs": [
    {
     "data": {
      "text/plain": [
       "Adeel    70\n",
       "dtype: int64"
      ]
     },
     "execution_count": 81,
     "metadata": {},
     "output_type": "execute_result"
    }
   ],
   "source": [
    "ser[np.logical_and(ser>=70,ser<80)]"
   ]
  },
  {
   "cell_type": "code",
   "execution_count": 83,
   "metadata": {},
   "outputs": [
    {
     "data": {
      "text/plain": [
       "Aaqib      NaN\n",
       "Adeel    150.0\n",
       "Ali      180.0\n",
       "Aqaib      NaN\n",
       "Ashad      NaN\n",
       "Umer     130.0\n",
       "dtype: float64"
      ]
     },
     "execution_count": 83,
     "metadata": {},
     "output_type": "execute_result"
    }
   ],
   "source": [
    "addition = ser + b\n",
    "addition"
   ]
  },
  {
   "cell_type": "code",
   "execution_count": 84,
   "metadata": {},
   "outputs": [
    {
     "data": {
      "text/plain": [
       "Aaqib    153.333333\n",
       "Adeel    150.000000\n",
       "Ali      180.000000\n",
       "Aqaib    153.333333\n",
       "Ashad    153.333333\n",
       "Umer     130.000000\n",
       "dtype: float64"
      ]
     },
     "execution_count": 84,
     "metadata": {},
     "output_type": "execute_result"
    }
   ],
   "source": [
    "addition.fillna(addition.mean()) #filled with series mean"
   ]
  },
  {
   "cell_type": "code",
   "execution_count": 85,
   "metadata": {},
   "outputs": [
    {
     "data": {
      "text/plain": [
       "Aaqib      0.0\n",
       "Adeel    150.0\n",
       "Ali      180.0\n",
       "Aqaib      0.0\n",
       "Ashad      0.0\n",
       "Umer     130.0\n",
       "dtype: float64"
      ]
     },
     "execution_count": 85,
     "metadata": {},
     "output_type": "execute_result"
    }
   ],
   "source": [
    "addition.fillna(0) #filled with constant"
   ]
  },
  {
   "cell_type": "code",
   "execution_count": 86,
   "metadata": {},
   "outputs": [
    {
     "data": {
      "text/plain": [
       "Aaqib     True\n",
       "Adeel    False\n",
       "Ali      False\n",
       "Aqaib     True\n",
       "Ashad     True\n",
       "Umer     False\n",
       "dtype: bool"
      ]
     },
     "execution_count": 86,
     "metadata": {},
     "output_type": "execute_result"
    }
   ],
   "source": [
    "addition.isnull()"
   ]
  },
  {
   "cell_type": "code",
   "execution_count": 87,
   "metadata": {},
   "outputs": [
    {
     "data": {
      "text/plain": [
       "Aaqib    False\n",
       "Adeel     True\n",
       "Ali       True\n",
       "Aqaib    False\n",
       "Ashad    False\n",
       "Umer      True\n",
       "dtype: bool"
      ]
     },
     "execution_count": 87,
     "metadata": {},
     "output_type": "execute_result"
    }
   ],
   "source": [
    "addition.notnull()"
   ]
  },
  {
   "cell_type": "code",
   "execution_count": 88,
   "metadata": {},
   "outputs": [
    {
     "data": {
      "text/plain": [
       "Adeel    150.0\n",
       "Ali      180.0\n",
       "Umer     130.0\n",
       "dtype: float64"
      ]
     },
     "execution_count": 88,
     "metadata": {},
     "output_type": "execute_result"
    }
   ],
   "source": [
    "addition[addition.notnull()] #"
   ]
  },
  {
   "cell_type": "code",
   "execution_count": 94,
   "metadata": {},
   "outputs": [
    {
     "data": {
      "text/html": [
       "<div>\n",
       "<style scoped>\n",
       "    .dataframe tbody tr th:only-of-type {\n",
       "        vertical-align: middle;\n",
       "    }\n",
       "\n",
       "    .dataframe tbody tr th {\n",
       "        vertical-align: top;\n",
       "    }\n",
       "\n",
       "    .dataframe thead th {\n",
       "        text-align: right;\n",
       "    }\n",
       "</style>\n",
       "<table border=\"1\" class=\"dataframe\">\n",
       "  <thead>\n",
       "    <tr style=\"text-align: right;\">\n",
       "      <th></th>\n",
       "      <th>names</th>\n",
       "      <th>age</th>\n",
       "      <th>CGPA</th>\n",
       "    </tr>\n",
       "  </thead>\n",
       "  <tbody>\n",
       "    <tr>\n",
       "      <th>0</th>\n",
       "      <td>Ali</td>\n",
       "      <td>23</td>\n",
       "      <td>3.8</td>\n",
       "    </tr>\n",
       "    <tr>\n",
       "      <th>1</th>\n",
       "      <td>Hamza</td>\n",
       "      <td>22</td>\n",
       "      <td>2.6</td>\n",
       "    </tr>\n",
       "    <tr>\n",
       "      <th>2</th>\n",
       "      <td>Saqib</td>\n",
       "      <td>22</td>\n",
       "      <td>4.0</td>\n",
       "    </tr>\n",
       "    <tr>\n",
       "      <th>3</th>\n",
       "      <td>Umair</td>\n",
       "      <td>18</td>\n",
       "      <td>3.5</td>\n",
       "    </tr>\n",
       "  </tbody>\n",
       "</table>\n",
       "</div>"
      ],
      "text/plain": [
       "   names  age  CGPA\n",
       "0    Ali   23   3.8\n",
       "1  Hamza   22   2.6\n",
       "2  Saqib   22   4.0\n",
       "3  Umair   18   3.5"
      ]
     },
     "execution_count": 94,
     "metadata": {},
     "output_type": "execute_result"
    }
   ],
   "source": [
    "students = pd.DataFrame({\n",
    "'names':['Ali', 'Hamza', 'Saqib', 'Umair'],\n",
    "'age': [23,22,22,18],\n",
    "'CGPA': [3.8,2.6,4.0,3.5]} )\n",
    "students"
   ]
  },
  {
   "cell_type": "code",
   "execution_count": 90,
   "metadata": {},
   "outputs": [
    {
     "data": {
      "text/plain": [
       "0      Ali\n",
       "1    Hamza\n",
       "2    Saqib\n",
       "3    Umair\n",
       "Name: names, dtype: object"
      ]
     },
     "execution_count": 90,
     "metadata": {},
     "output_type": "execute_result"
    }
   ],
   "source": [
    "students['names']"
   ]
  },
  {
   "cell_type": "code",
   "execution_count": 92,
   "metadata": {},
   "outputs": [
    {
     "data": {
      "text/plain": [
       "0      Ali\n",
       "1    Hamza\n",
       "2    Saqib\n",
       "3    Umair\n",
       "Name: names, dtype: object"
      ]
     },
     "execution_count": 92,
     "metadata": {},
     "output_type": "execute_result"
    }
   ],
   "source": [
    "students.names"
   ]
  },
  {
   "cell_type": "code",
   "execution_count": 93,
   "metadata": {},
   "outputs": [
    {
     "data": {
      "text/plain": [
       "Index(['names', 'age', 'CGPA'], dtype='object')"
      ]
     },
     "execution_count": 93,
     "metadata": {},
     "output_type": "execute_result"
    }
   ],
   "source": [
    "students.columns"
   ]
  },
  {
   "cell_type": "code",
   "execution_count": 96,
   "metadata": {},
   "outputs": [
    {
     "data": {
      "text/plain": [
       "names    Ali\n",
       "age       23\n",
       "CGPA     3.8\n",
       "Name: 0, dtype: object"
      ]
     },
     "execution_count": 96,
     "metadata": {},
     "output_type": "execute_result"
    }
   ],
   "source": [
    "students.iloc[0]"
   ]
  },
  {
   "cell_type": "code",
   "execution_count": 97,
   "metadata": {},
   "outputs": [
    {
     "data": {
      "text/html": [
       "<div>\n",
       "<style scoped>\n",
       "    .dataframe tbody tr th:only-of-type {\n",
       "        vertical-align: middle;\n",
       "    }\n",
       "\n",
       "    .dataframe tbody tr th {\n",
       "        vertical-align: top;\n",
       "    }\n",
       "\n",
       "    .dataframe thead th {\n",
       "        text-align: right;\n",
       "    }\n",
       "</style>\n",
       "<table border=\"1\" class=\"dataframe\">\n",
       "  <thead>\n",
       "    <tr style=\"text-align: right;\">\n",
       "      <th></th>\n",
       "      <th>names</th>\n",
       "      <th>age</th>\n",
       "      <th>CGPA</th>\n",
       "    </tr>\n",
       "  </thead>\n",
       "  <tbody>\n",
       "    <tr>\n",
       "      <th>0</th>\n",
       "      <td>Ali</td>\n",
       "      <td>23</td>\n",
       "      <td>3.8</td>\n",
       "    </tr>\n",
       "    <tr>\n",
       "      <th>2</th>\n",
       "      <td>Saqib</td>\n",
       "      <td>22</td>\n",
       "      <td>4.0</td>\n",
       "    </tr>\n",
       "  </tbody>\n",
       "</table>\n",
       "</div>"
      ],
      "text/plain": [
       "   names  age  CGPA\n",
       "0    Ali   23   3.8\n",
       "2  Saqib   22   4.0"
      ]
     },
     "execution_count": 97,
     "metadata": {},
     "output_type": "execute_result"
    }
   ],
   "source": [
    "students[students.CGPA > 3.5]"
   ]
  },
  {
   "cell_type": "code",
   "execution_count": 99,
   "metadata": {},
   "outputs": [
    {
     "data": {
      "text/html": [
       "<div>\n",
       "<style scoped>\n",
       "    .dataframe tbody tr th:only-of-type {\n",
       "        vertical-align: middle;\n",
       "    }\n",
       "\n",
       "    .dataframe tbody tr th {\n",
       "        vertical-align: top;\n",
       "    }\n",
       "\n",
       "    .dataframe thead th {\n",
       "        text-align: right;\n",
       "    }\n",
       "</style>\n",
       "<table border=\"1\" class=\"dataframe\">\n",
       "  <thead>\n",
       "    <tr style=\"text-align: right;\">\n",
       "      <th></th>\n",
       "      <th>names</th>\n",
       "      <th>age</th>\n",
       "      <th>CGPA</th>\n",
       "    </tr>\n",
       "  </thead>\n",
       "  <tbody>\n",
       "    <tr>\n",
       "      <th>0</th>\n",
       "      <td>Ali</td>\n",
       "      <td>23</td>\n",
       "      <td>3.8</td>\n",
       "    </tr>\n",
       "    <tr>\n",
       "      <th>1</th>\n",
       "      <td>Hamza</td>\n",
       "      <td>22</td>\n",
       "      <td>2.6</td>\n",
       "    </tr>\n",
       "    <tr>\n",
       "      <th>2</th>\n",
       "      <td>Saqib</td>\n",
       "      <td>22</td>\n",
       "      <td>4.0</td>\n",
       "    </tr>\n",
       "  </tbody>\n",
       "</table>\n",
       "</div>"
      ],
      "text/plain": [
       "   names  age  CGPA\n",
       "0    Ali   23   3.8\n",
       "1  Hamza   22   2.6\n",
       "2  Saqib   22   4.0"
      ]
     },
     "execution_count": 99,
     "metadata": {},
     "output_type": "execute_result"
    }
   ],
   "source": [
    "students.head(3)"
   ]
  },
  {
   "cell_type": "code",
   "execution_count": 100,
   "metadata": {},
   "outputs": [
    {
     "data": {
      "text/html": [
       "<div>\n",
       "<style scoped>\n",
       "    .dataframe tbody tr th:only-of-type {\n",
       "        vertical-align: middle;\n",
       "    }\n",
       "\n",
       "    .dataframe tbody tr th {\n",
       "        vertical-align: top;\n",
       "    }\n",
       "\n",
       "    .dataframe thead th {\n",
       "        text-align: right;\n",
       "    }\n",
       "</style>\n",
       "<table border=\"1\" class=\"dataframe\">\n",
       "  <thead>\n",
       "    <tr style=\"text-align: right;\">\n",
       "      <th></th>\n",
       "      <th>names</th>\n",
       "      <th>age</th>\n",
       "      <th>CGPA</th>\n",
       "    </tr>\n",
       "  </thead>\n",
       "  <tbody>\n",
       "    <tr>\n",
       "      <th>s1</th>\n",
       "      <td>Ali</td>\n",
       "      <td>23</td>\n",
       "      <td>3.8</td>\n",
       "    </tr>\n",
       "    <tr>\n",
       "      <th>s2</th>\n",
       "      <td>Hamza</td>\n",
       "      <td>22</td>\n",
       "      <td>2.6</td>\n",
       "    </tr>\n",
       "    <tr>\n",
       "      <th>s3</th>\n",
       "      <td>Saqib</td>\n",
       "      <td>22</td>\n",
       "      <td>4.0</td>\n",
       "    </tr>\n",
       "    <tr>\n",
       "      <th>s4</th>\n",
       "      <td>Umair</td>\n",
       "      <td>18</td>\n",
       "      <td>3.5</td>\n",
       "    </tr>\n",
       "  </tbody>\n",
       "</table>\n",
       "</div>"
      ],
      "text/plain": [
       "    names  age  CGPA\n",
       "s1    Ali   23   3.8\n",
       "s2  Hamza   22   2.6\n",
       "s3  Saqib   22   4.0\n",
       "s4  Umair   18   3.5"
      ]
     },
     "execution_count": 100,
     "metadata": {},
     "output_type": "execute_result"
    }
   ],
   "source": [
    "students = pd.DataFrame({\n",
    "'names':['Ali', 'Hamza', 'Saqib', 'Umair'],\n",
    "'age': [23,22,22,18],\n",
    "'CGPA': [3.8,2.6,4.0,3.5]}, index = ['s1','s2','s3','s4'] )\n",
    "students"
   ]
  },
  {
   "cell_type": "code",
   "execution_count": 101,
   "metadata": {},
   "outputs": [
    {
     "data": {
      "text/plain": [
       "names    Ali\n",
       "age       23\n",
       "CGPA     3.8\n",
       "Name: s1, dtype: object"
      ]
     },
     "execution_count": 101,
     "metadata": {},
     "output_type": "execute_result"
    }
   ],
   "source": [
    "students.loc['s1']"
   ]
  },
  {
   "cell_type": "code",
   "execution_count": 102,
   "metadata": {},
   "outputs": [
    {
     "data": {
      "text/plain": [
       "names    Ali\n",
       "age       23\n",
       "CGPA     3.8\n",
       "Name: s1, dtype: object"
      ]
     },
     "execution_count": 102,
     "metadata": {},
     "output_type": "execute_result"
    }
   ],
   "source": [
    "students.iloc[0]"
   ]
  },
  {
   "cell_type": "code",
   "execution_count": 105,
   "metadata": {},
   "outputs": [
    {
     "data": {
      "text/html": [
       "<div>\n",
       "<style scoped>\n",
       "    .dataframe tbody tr th:only-of-type {\n",
       "        vertical-align: middle;\n",
       "    }\n",
       "\n",
       "    .dataframe tbody tr th {\n",
       "        vertical-align: top;\n",
       "    }\n",
       "\n",
       "    .dataframe thead th {\n",
       "        text-align: right;\n",
       "    }\n",
       "</style>\n",
       "<table border=\"1\" class=\"dataframe\">\n",
       "  <thead>\n",
       "    <tr style=\"text-align: right;\">\n",
       "      <th></th>\n",
       "      <th>names</th>\n",
       "      <th>age</th>\n",
       "      <th>CGPA</th>\n",
       "    </tr>\n",
       "  </thead>\n",
       "  <tbody>\n",
       "    <tr>\n",
       "      <th>s1</th>\n",
       "      <td>Ali</td>\n",
       "      <td>23</td>\n",
       "      <td>4.0</td>\n",
       "    </tr>\n",
       "    <tr>\n",
       "      <th>s2</th>\n",
       "      <td>Hamza</td>\n",
       "      <td>22</td>\n",
       "      <td>4.0</td>\n",
       "    </tr>\n",
       "    <tr>\n",
       "      <th>s3</th>\n",
       "      <td>Saqib</td>\n",
       "      <td>22</td>\n",
       "      <td>4.0</td>\n",
       "    </tr>\n",
       "    <tr>\n",
       "      <th>s4</th>\n",
       "      <td>Umair</td>\n",
       "      <td>18</td>\n",
       "      <td>4.0</td>\n",
       "    </tr>\n",
       "  </tbody>\n",
       "</table>\n",
       "</div>"
      ],
      "text/plain": [
       "    names  age  CGPA\n",
       "s1    Ali   23   4.0\n",
       "s2  Hamza   22   4.0\n",
       "s3  Saqib   22   4.0\n",
       "s4  Umair   18   4.0"
      ]
     },
     "execution_count": 105,
     "metadata": {},
     "output_type": "execute_result"
    }
   ],
   "source": [
    "students.CGPA = 4.0\n",
    "students"
   ]
  },
  {
   "cell_type": "code",
   "execution_count": 106,
   "metadata": {},
   "outputs": [
    {
     "data": {
      "text/html": [
       "<div>\n",
       "<style scoped>\n",
       "    .dataframe tbody tr th:only-of-type {\n",
       "        vertical-align: middle;\n",
       "    }\n",
       "\n",
       "    .dataframe tbody tr th {\n",
       "        vertical-align: top;\n",
       "    }\n",
       "\n",
       "    .dataframe thead th {\n",
       "        text-align: right;\n",
       "    }\n",
       "</style>\n",
       "<table border=\"1\" class=\"dataframe\">\n",
       "  <thead>\n",
       "    <tr style=\"text-align: right;\">\n",
       "      <th></th>\n",
       "      <th>names</th>\n",
       "      <th>age</th>\n",
       "      <th>CGPA</th>\n",
       "    </tr>\n",
       "  </thead>\n",
       "  <tbody>\n",
       "    <tr>\n",
       "      <th>s1</th>\n",
       "      <td>Ali</td>\n",
       "      <td>23</td>\n",
       "      <td>4.0</td>\n",
       "    </tr>\n",
       "  </tbody>\n",
       "</table>\n",
       "</div>"
      ],
      "text/plain": [
       "   names  age  CGPA\n",
       "s1   Ali   23   4.0"
      ]
     },
     "execution_count": 106,
     "metadata": {},
     "output_type": "execute_result"
    }
   ],
   "source": [
    "students[students.names == 'Ali']"
   ]
  },
  {
   "cell_type": "code",
   "execution_count": 108,
   "metadata": {},
   "outputs": [
    {
     "name": "stderr",
     "output_type": "stream",
     "text": [
      "C:\\Users\\MT-2019.MIT_R9_PC2\\Anaconda3\\lib\\site-packages\\pandas\\core\\generic.py:5096: SettingWithCopyWarning: \n",
      "A value is trying to be set on a copy of a slice from a DataFrame\n",
      "\n",
      "See the caveats in the documentation: http://pandas.pydata.org/pandas-docs/stable/indexing.html#indexing-view-versus-copy\n",
      "  self[name] = value\n"
     ]
    },
    {
     "data": {
      "text/html": [
       "<div>\n",
       "<style scoped>\n",
       "    .dataframe tbody tr th:only-of-type {\n",
       "        vertical-align: middle;\n",
       "    }\n",
       "\n",
       "    .dataframe tbody tr th {\n",
       "        vertical-align: top;\n",
       "    }\n",
       "\n",
       "    .dataframe thead th {\n",
       "        text-align: right;\n",
       "    }\n",
       "</style>\n",
       "<table border=\"1\" class=\"dataframe\">\n",
       "  <thead>\n",
       "    <tr style=\"text-align: right;\">\n",
       "      <th></th>\n",
       "      <th>names</th>\n",
       "      <th>age</th>\n",
       "      <th>CGPA</th>\n",
       "    </tr>\n",
       "  </thead>\n",
       "  <tbody>\n",
       "    <tr>\n",
       "      <th>s1</th>\n",
       "      <td>Ali</td>\n",
       "      <td>23</td>\n",
       "      <td>3.5</td>\n",
       "    </tr>\n",
       "    <tr>\n",
       "      <th>s2</th>\n",
       "      <td>Hamza</td>\n",
       "      <td>22</td>\n",
       "      <td>4.0</td>\n",
       "    </tr>\n",
       "    <tr>\n",
       "      <th>s3</th>\n",
       "      <td>Saqib</td>\n",
       "      <td>22</td>\n",
       "      <td>4.0</td>\n",
       "    </tr>\n",
       "    <tr>\n",
       "      <th>s4</th>\n",
       "      <td>Umair</td>\n",
       "      <td>18</td>\n",
       "      <td>4.0</td>\n",
       "    </tr>\n",
       "  </tbody>\n",
       "</table>\n",
       "</div>"
      ],
      "text/plain": [
       "    names  age  CGPA\n",
       "s1    Ali   23   3.5\n",
       "s2  Hamza   22   4.0\n",
       "s3  Saqib   22   4.0\n",
       "s4  Umair   18   4.0"
      ]
     },
     "execution_count": 108,
     "metadata": {},
     "output_type": "execute_result"
    }
   ],
   "source": [
    "students.loc['s1'].CGPA = 3.5\n",
    "students"
   ]
  },
  {
   "cell_type": "code",
   "execution_count": 109,
   "metadata": {},
   "outputs": [
    {
     "data": {
      "text/html": [
       "<div>\n",
       "<style scoped>\n",
       "    .dataframe tbody tr th:only-of-type {\n",
       "        vertical-align: middle;\n",
       "    }\n",
       "\n",
       "    .dataframe tbody tr th {\n",
       "        vertical-align: top;\n",
       "    }\n",
       "\n",
       "    .dataframe thead th {\n",
       "        text-align: right;\n",
       "    }\n",
       "</style>\n",
       "<table border=\"1\" class=\"dataframe\">\n",
       "  <thead>\n",
       "    <tr style=\"text-align: right;\">\n",
       "      <th></th>\n",
       "      <th>names</th>\n",
       "      <th>age</th>\n",
       "      <th>CGPA</th>\n",
       "      <th>roll no</th>\n",
       "    </tr>\n",
       "  </thead>\n",
       "  <tbody>\n",
       "    <tr>\n",
       "      <th>s1</th>\n",
       "      <td>Ali</td>\n",
       "      <td>23</td>\n",
       "      <td>3.5</td>\n",
       "      <td>1</td>\n",
       "    </tr>\n",
       "    <tr>\n",
       "      <th>s2</th>\n",
       "      <td>Hamza</td>\n",
       "      <td>22</td>\n",
       "      <td>4.0</td>\n",
       "      <td>2</td>\n",
       "    </tr>\n",
       "    <tr>\n",
       "      <th>s3</th>\n",
       "      <td>Saqib</td>\n",
       "      <td>22</td>\n",
       "      <td>4.0</td>\n",
       "      <td>3</td>\n",
       "    </tr>\n",
       "    <tr>\n",
       "      <th>s4</th>\n",
       "      <td>Umair</td>\n",
       "      <td>18</td>\n",
       "      <td>4.0</td>\n",
       "      <td>4</td>\n",
       "    </tr>\n",
       "  </tbody>\n",
       "</table>\n",
       "</div>"
      ],
      "text/plain": [
       "    names  age  CGPA  roll no\n",
       "s1    Ali   23   3.5        1\n",
       "s2  Hamza   22   4.0        2\n",
       "s3  Saqib   22   4.0        3\n",
       "s4  Umair   18   4.0        4"
      ]
     },
     "execution_count": 109,
     "metadata": {},
     "output_type": "execute_result"
    }
   ],
   "source": [
    "students['roll no'] = np.arange(1,5) #adding columns\n",
    "students"
   ]
  },
  {
   "cell_type": "code",
   "execution_count": 112,
   "metadata": {},
   "outputs": [
    {
     "data": {
      "text/html": [
       "<div>\n",
       "<style scoped>\n",
       "    .dataframe tbody tr th:only-of-type {\n",
       "        vertical-align: middle;\n",
       "    }\n",
       "\n",
       "    .dataframe tbody tr th {\n",
       "        vertical-align: top;\n",
       "    }\n",
       "\n",
       "    .dataframe thead th {\n",
       "        text-align: right;\n",
       "    }\n",
       "</style>\n",
       "<table border=\"1\" class=\"dataframe\">\n",
       "  <thead>\n",
       "    <tr style=\"text-align: right;\">\n",
       "      <th></th>\n",
       "      <th>District</th>\n",
       "      <th>Seat</th>\n",
       "      <th>Constituency_title</th>\n",
       "      <th>Candidate_Name</th>\n",
       "      <th>Party</th>\n",
       "    </tr>\n",
       "  </thead>\n",
       "  <tbody>\n",
       "    <tr>\n",
       "      <th>0</th>\n",
       "      <td>Chitral</td>\n",
       "      <td>Chitral</td>\n",
       "      <td>NA-1</td>\n",
       "      <td>lftikhar ud Din</td>\n",
       "      <td>Pakistan Muslim League(N)</td>\n",
       "    </tr>\n",
       "    <tr>\n",
       "      <th>1</th>\n",
       "      <td>Chitral</td>\n",
       "      <td>Chitral</td>\n",
       "      <td>NA-1</td>\n",
       "      <td>Taqdira Ajmal</td>\n",
       "      <td>Independent</td>\n",
       "    </tr>\n",
       "    <tr>\n",
       "      <th>2</th>\n",
       "      <td>Chitral</td>\n",
       "      <td>Chitral</td>\n",
       "      <td>NA-1</td>\n",
       "      <td>Saeed Ur Rehman</td>\n",
       "      <td>Pakistan Rah-e-Haq Part</td>\n",
       "    </tr>\n",
       "    <tr>\n",
       "      <th>3</th>\n",
       "      <td>Chitral</td>\n",
       "      <td>Chitral</td>\n",
       "      <td>NA-1</td>\n",
       "      <td>Saleem Khan</td>\n",
       "      <td>Pakistan Peoples Party Parliamentarians</td>\n",
       "    </tr>\n",
       "    <tr>\n",
       "      <th>4</th>\n",
       "      <td>Chitral</td>\n",
       "      <td>Chitral</td>\n",
       "      <td>NA-1</td>\n",
       "      <td>Shahzada Muharamad Taimur Khisrao</td>\n",
       "      <td>Independent</td>\n",
       "    </tr>\n",
       "    <tr>\n",
       "      <th>5</th>\n",
       "      <td>Chitral</td>\n",
       "      <td>Chitral</td>\n",
       "      <td>NA-1</td>\n",
       "      <td>Abdul Latif</td>\n",
       "      <td>Pakistan Tehreek-e-lnsaf</td>\n",
       "    </tr>\n",
       "    <tr>\n",
       "      <th>6</th>\n",
       "      <td>Chitral</td>\n",
       "      <td>Chitral</td>\n",
       "      <td>NA-1</td>\n",
       "      <td>Eid ulHussain</td>\n",
       "      <td>Awami National Party</td>\n",
       "    </tr>\n",
       "    <tr>\n",
       "      <th>7</th>\n",
       "      <td>Chitral</td>\n",
       "      <td>Chitral</td>\n",
       "      <td>NA-1</td>\n",
       "      <td>Mohammad Amjad</td>\n",
       "      <td>All Pakistan Muslim League</td>\n",
       "    </tr>\n",
       "    <tr>\n",
       "      <th>8</th>\n",
       "      <td>Chitral</td>\n",
       "      <td>Chitral</td>\n",
       "      <td>NA-1</td>\n",
       "      <td>Muhammad Yahya</td>\n",
       "      <td>Independent</td>\n",
       "    </tr>\n",
       "    <tr>\n",
       "      <th>9</th>\n",
       "      <td>Chitral</td>\n",
       "      <td>Chitral</td>\n",
       "      <td>NA-1</td>\n",
       "      <td>Moulana Abdul Akbar Chitrali</td>\n",
       "      <td>Muttahida MAJLIS-E-AMAL PAKISTAN</td>\n",
       "    </tr>\n",
       "    <tr>\n",
       "      <th>10</th>\n",
       "      <td>Chitral</td>\n",
       "      <td>Chitral</td>\n",
       "      <td>NA-1</td>\n",
       "      <td>Nisar Dastager</td>\n",
       "      <td>Independent</td>\n",
       "    </tr>\n",
       "    <tr>\n",
       "      <th>11</th>\n",
       "      <td>Swat</td>\n",
       "      <td>Swat-I</td>\n",
       "      <td>NA-2</td>\n",
       "      <td>Amjad Ali Khan</td>\n",
       "      <td>Pakistan Peoples Party Parliamentarians</td>\n",
       "    </tr>\n",
       "    <tr>\n",
       "      <th>12</th>\n",
       "      <td>Swat</td>\n",
       "      <td>Swat-I</td>\n",
       "      <td>NA-2</td>\n",
       "      <td>Amir Muqam</td>\n",
       "      <td>Pakistan Muslim League(N)</td>\n",
       "    </tr>\n",
       "    <tr>\n",
       "      <th>13</th>\n",
       "      <td>Swat</td>\n",
       "      <td>Swat-I</td>\n",
       "      <td>NA-2</td>\n",
       "      <td>Haider Ali Khan</td>\n",
       "      <td>Pakistan Tehreek-e-lnsaf</td>\n",
       "    </tr>\n",
       "    <tr>\n",
       "      <th>14</th>\n",
       "      <td>Swat</td>\n",
       "      <td>Swat-I</td>\n",
       "      <td>NA-2</td>\n",
       "      <td>Said Qamar</td>\n",
       "      <td>Independent</td>\n",
       "    </tr>\n",
       "    <tr>\n",
       "      <th>15</th>\n",
       "      <td>Swat</td>\n",
       "      <td>Swat-I</td>\n",
       "      <td>NA-2</td>\n",
       "      <td>Ibadullah Khan</td>\n",
       "      <td>Independent</td>\n",
       "    </tr>\n",
       "    <tr>\n",
       "      <th>16</th>\n",
       "      <td>Swat</td>\n",
       "      <td>Swat-I</td>\n",
       "      <td>NA-2</td>\n",
       "      <td>Muhammad Mukhtar</td>\n",
       "      <td>Pashtoonkhwa Milli Avvami Party</td>\n",
       "    </tr>\n",
       "    <tr>\n",
       "      <th>17</th>\n",
       "      <td>Swat</td>\n",
       "      <td>Swat-I</td>\n",
       "      <td>NA-2</td>\n",
       "      <td>Miraj Muhammad</td>\n",
       "      <td>Independent</td>\n",
       "    </tr>\n",
       "    <tr>\n",
       "      <th>18</th>\n",
       "      <td>Swat</td>\n",
       "      <td>Swat-I</td>\n",
       "      <td>NA-2</td>\n",
       "      <td>Malak Muhammad Didar Khan</td>\n",
       "      <td>Independent</td>\n",
       "    </tr>\n",
       "    <tr>\n",
       "      <th>19</th>\n",
       "      <td>Swat</td>\n",
       "      <td>Swat-I</td>\n",
       "      <td>NA-2</td>\n",
       "      <td>Mumtaz Ahmad</td>\n",
       "      <td>Awami National Party</td>\n",
       "    </tr>\n",
       "    <tr>\n",
       "      <th>20</th>\n",
       "      <td>Swat</td>\n",
       "      <td>Swat-I</td>\n",
       "      <td>NA-2</td>\n",
       "      <td>Naveed lqbal</td>\n",
       "      <td>Muttahida MAJLIS-E-AMAL PAKISTAN</td>\n",
       "    </tr>\n",
       "    <tr>\n",
       "      <th>21</th>\n",
       "      <td>Swat</td>\n",
       "      <td>Swat-II</td>\n",
       "      <td>NA-3</td>\n",
       "      <td>Aftab Shahid</td>\n",
       "      <td>Independent</td>\n",
       "    </tr>\n",
       "    <tr>\n",
       "      <th>22</th>\n",
       "      <td>Swat</td>\n",
       "      <td>Swat-II</td>\n",
       "      <td>NA-3</td>\n",
       "      <td>Hujjat ullah</td>\n",
       "      <td>Independent</td>\n",
       "    </tr>\n",
       "    <tr>\n",
       "      <th>23</th>\n",
       "      <td>Swat</td>\n",
       "      <td>Swat-II</td>\n",
       "      <td>NA-3</td>\n",
       "      <td>Saleem Rehman</td>\n",
       "      <td>Pakistan Tehreek-e-lnsaf</td>\n",
       "    </tr>\n",
       "    <tr>\n",
       "      <th>24</th>\n",
       "      <td>Swat</td>\n",
       "      <td>Swat-II</td>\n",
       "      <td>NA-3</td>\n",
       "      <td>Shakeel Ahmad</td>\n",
       "      <td>Jamiat Ulmae Islam Nazryati Pakistan</td>\n",
       "    </tr>\n",
       "    <tr>\n",
       "      <th>25</th>\n",
       "      <td>Swat</td>\n",
       "      <td>Swat-II</td>\n",
       "      <td>NA-3</td>\n",
       "      <td>Shahryar Amirzeb</td>\n",
       "      <td>Pakistan Peoples Party Parliamentarians</td>\n",
       "    </tr>\n",
       "    <tr>\n",
       "      <th>26</th>\n",
       "      <td>Swat</td>\n",
       "      <td>Swat-II</td>\n",
       "      <td>NA-3</td>\n",
       "      <td>Abdul Karim</td>\n",
       "      <td>Awami National Party</td>\n",
       "    </tr>\n",
       "    <tr>\n",
       "      <th>27</th>\n",
       "      <td>Swat</td>\n",
       "      <td>Swat-II</td>\n",
       "      <td>NA-3</td>\n",
       "      <td>Ali Khan</td>\n",
       "      <td>Independent</td>\n",
       "    </tr>\n",
       "    <tr>\n",
       "      <th>28</th>\n",
       "      <td>Swat</td>\n",
       "      <td>Swat-II</td>\n",
       "      <td>NA-3</td>\n",
       "      <td>Mian Muhammad Shahbaz Sharif</td>\n",
       "      <td>Pakistan Muslim League(N)</td>\n",
       "    </tr>\n",
       "    <tr>\n",
       "      <th>29</th>\n",
       "      <td>Swat</td>\n",
       "      <td>Swat-III</td>\n",
       "      <td>NA-4</td>\n",
       "      <td>lbrahim</td>\n",
       "      <td>Allah-o-Akbar Tehreek</td>\n",
       "    </tr>\n",
       "    <tr>\n",
       "      <th>...</th>\n",
       "      <td>...</td>\n",
       "      <td>...</td>\n",
       "      <td>...</td>\n",
       "      <td>...</td>\n",
       "      <td>...</td>\n",
       "    </tr>\n",
       "    <tr>\n",
       "      <th>3151</th>\n",
       "      <td>Panjgur</td>\n",
       "      <td>Panjgur-cum-Washuk-cum-</td>\n",
       "      <td>NA-270</td>\n",
       "      <td>Meer Ahmed Nawaz Mohammad Hassni</td>\n",
       "      <td>Independent</td>\n",
       "    </tr>\n",
       "    <tr>\n",
       "      <th>3152</th>\n",
       "      <td>Panjgur</td>\n",
       "      <td>Panjgur-cum-Washuk-cum-</td>\n",
       "      <td>NA-270</td>\n",
       "      <td>Meer Nazeer Ahmed Baloch</td>\n",
       "      <td>Balochistan National Party</td>\n",
       "    </tr>\n",
       "    <tr>\n",
       "      <th>3153</th>\n",
       "      <td>Kech</td>\n",
       "      <td>Kech</td>\n",
       "      <td>NA-271</td>\n",
       "      <td>Abdul Hassan</td>\n",
       "      <td>National Party</td>\n",
       "    </tr>\n",
       "    <tr>\n",
       "      <th>3154</th>\n",
       "      <td>Kech</td>\n",
       "      <td>Kech</td>\n",
       "      <td>NA-271</td>\n",
       "      <td>Barkat Ali</td>\n",
       "      <td>Pakistan Peoples Party Parliamentarians</td>\n",
       "    </tr>\n",
       "    <tr>\n",
       "      <th>3155</th>\n",
       "      <td>Kech</td>\n",
       "      <td>Kech</td>\n",
       "      <td>NA-271</td>\n",
       "      <td>Jan Muhammad Dashti</td>\n",
       "      <td>Balochistan National Party</td>\n",
       "    </tr>\n",
       "    <tr>\n",
       "      <th>3156</th>\n",
       "      <td>Kech</td>\n",
       "      <td>Kech</td>\n",
       "      <td>NA-271</td>\n",
       "      <td>Hafiz Nasir ud Din Zamurani</td>\n",
       "      <td>Independent</td>\n",
       "    </tr>\n",
       "    <tr>\n",
       "      <th>3157</th>\n",
       "      <td>Kech</td>\n",
       "      <td>Kech</td>\n",
       "      <td>NA-271</td>\n",
       "      <td>Khalid Waleed</td>\n",
       "      <td>Independent</td>\n",
       "    </tr>\n",
       "    <tr>\n",
       "      <th>3158</th>\n",
       "      <td>Kech</td>\n",
       "      <td>Kech</td>\n",
       "      <td>NA-271</td>\n",
       "      <td>Khalil Ahmed Bulidai</td>\n",
       "      <td>Mutthida majlis-e-Amal Pakistan</td>\n",
       "    </tr>\n",
       "    <tr>\n",
       "      <th>3159</th>\n",
       "      <td>Kech</td>\n",
       "      <td>Kech</td>\n",
       "      <td>NA-271</td>\n",
       "      <td>Zubaida Jalal</td>\n",
       "      <td>Balochistan Awami Party</td>\n",
       "    </tr>\n",
       "    <tr>\n",
       "      <th>3160</th>\n",
       "      <td>Kech</td>\n",
       "      <td>Kech</td>\n",
       "      <td>NA-271</td>\n",
       "      <td>Sayed Ehsan Saha</td>\n",
       "      <td>Balochistan National Party (Awami)</td>\n",
       "    </tr>\n",
       "    <tr>\n",
       "      <th>3161</th>\n",
       "      <td>Kech</td>\n",
       "      <td>Kech</td>\n",
       "      <td>NA-271</td>\n",
       "      <td>Shay Brakat Ali</td>\n",
       "      <td>Independent</td>\n",
       "    </tr>\n",
       "    <tr>\n",
       "      <th>3162</th>\n",
       "      <td>Kech</td>\n",
       "      <td>Kech</td>\n",
       "      <td>NA-271</td>\n",
       "      <td>Abdul Rasheed</td>\n",
       "      <td>Independent</td>\n",
       "    </tr>\n",
       "    <tr>\n",
       "      <th>3163</th>\n",
       "      <td>Kech</td>\n",
       "      <td>Kech</td>\n",
       "      <td>NA-271</td>\n",
       "      <td>Atta Ullah</td>\n",
       "      <td>Pakistan Muslim League (N)</td>\n",
       "    </tr>\n",
       "    <tr>\n",
       "      <th>3164</th>\n",
       "      <td>Kech</td>\n",
       "      <td>Kech</td>\n",
       "      <td>NA-271</td>\n",
       "      <td>Mujeeb Ur Rehman</td>\n",
       "      <td>Allah-o-Akber Tehreek</td>\n",
       "    </tr>\n",
       "    <tr>\n",
       "      <th>3165</th>\n",
       "      <td>Kech</td>\n",
       "      <td>Kech</td>\n",
       "      <td>NA-271</td>\n",
       "      <td>Muhammad Ismail Bulidai</td>\n",
       "      <td>Independent</td>\n",
       "    </tr>\n",
       "    <tr>\n",
       "      <th>3166</th>\n",
       "      <td>Kech</td>\n",
       "      <td>Kech</td>\n",
       "      <td>NA-271</td>\n",
       "      <td>Manzoor Ahmed</td>\n",
       "      <td>Independent</td>\n",
       "    </tr>\n",
       "    <tr>\n",
       "      <th>3167</th>\n",
       "      <td>Kech</td>\n",
       "      <td>Kech</td>\n",
       "      <td>NA-271</td>\n",
       "      <td>Hotman</td>\n",
       "      <td>Independent</td>\n",
       "    </tr>\n",
       "    <tr>\n",
       "      <th>3168</th>\n",
       "      <td>Lasbela</td>\n",
       "      <td>Lasbela-cum-Gwadar</td>\n",
       "      <td>NA-272</td>\n",
       "      <td>Allah Bakhsh</td>\n",
       "      <td>Mutthida majlis-e-Amal Pakistan</td>\n",
       "    </tr>\n",
       "    <tr>\n",
       "      <th>3169</th>\n",
       "      <td>Lasbela</td>\n",
       "      <td>Lasbela-cum-Gwadar</td>\n",
       "      <td>NA-272</td>\n",
       "      <td>Jam Jamal Khan</td>\n",
       "      <td>Balochistan Awami Party</td>\n",
       "    </tr>\n",
       "    <tr>\n",
       "      <th>3170</th>\n",
       "      <td>Lasbela</td>\n",
       "      <td>Lasbela-cum-Gwadar</td>\n",
       "      <td>NA-272</td>\n",
       "      <td>Shakeel Ahmed</td>\n",
       "      <td>Independent</td>\n",
       "    </tr>\n",
       "    <tr>\n",
       "      <th>3171</th>\n",
       "      <td>Lasbela</td>\n",
       "      <td>Lasbela-cum-Gwadar</td>\n",
       "      <td>NA-272</td>\n",
       "      <td>Attaullah</td>\n",
       "      <td>Balochistan National Party (Awami)</td>\n",
       "    </tr>\n",
       "    <tr>\n",
       "      <th>3172</th>\n",
       "      <td>Lasbela</td>\n",
       "      <td>Lasbela-cum-Gwadar</td>\n",
       "      <td>NA-272</td>\n",
       "      <td>Ali Ahmed</td>\n",
       "      <td>Pakistan Tehreek-e-Insaf</td>\n",
       "    </tr>\n",
       "    <tr>\n",
       "      <th>3173</th>\n",
       "      <td>Lasbela</td>\n",
       "      <td>Lasbela-cum-Gwadar</td>\n",
       "      <td>NA-272</td>\n",
       "      <td>Ali Baloch</td>\n",
       "      <td>Independent</td>\n",
       "    </tr>\n",
       "    <tr>\n",
       "      <th>3174</th>\n",
       "      <td>Lasbela</td>\n",
       "      <td>Lasbela-cum-Gwadar</td>\n",
       "      <td>NA-272</td>\n",
       "      <td>Ghulam Sarwar</td>\n",
       "      <td>Independent</td>\n",
       "    </tr>\n",
       "    <tr>\n",
       "      <th>3175</th>\n",
       "      <td>Lasbela</td>\n",
       "      <td>Lasbela-cum-Gwadar</td>\n",
       "      <td>NA-272</td>\n",
       "      <td>Ghulam Mustafa Malik</td>\n",
       "      <td>Independent</td>\n",
       "    </tr>\n",
       "    <tr>\n",
       "      <th>3176</th>\n",
       "      <td>Lasbela</td>\n",
       "      <td>Lasbela-cum-Gwadar</td>\n",
       "      <td>NA-272</td>\n",
       "      <td>Mohammad Akhtar Mengal</td>\n",
       "      <td>Balochistan National Party</td>\n",
       "    </tr>\n",
       "    <tr>\n",
       "      <th>3177</th>\n",
       "      <td>Lasbela</td>\n",
       "      <td>Lasbela-cum-Gwadar</td>\n",
       "      <td>NA-272</td>\n",
       "      <td>Mohammad Aslam Bhootani</td>\n",
       "      <td>Independent</td>\n",
       "    </tr>\n",
       "    <tr>\n",
       "      <th>3178</th>\n",
       "      <td>Lasbela</td>\n",
       "      <td>Lasbela-cum-Gwadar</td>\n",
       "      <td>NA-272</td>\n",
       "      <td>Mohammad Akram</td>\n",
       "      <td>Pak Sarzameen Party</td>\n",
       "    </tr>\n",
       "    <tr>\n",
       "      <th>3179</th>\n",
       "      <td>Lasbela</td>\n",
       "      <td>Lasbela-cum-Gwadar</td>\n",
       "      <td>NA-272</td>\n",
       "      <td>Nawab Khan Buzenjo</td>\n",
       "      <td>Amun Taraqqi Party</td>\n",
       "    </tr>\n",
       "    <tr>\n",
       "      <th>3180</th>\n",
       "      <td>Lasbela</td>\n",
       "      <td>Lasbela-cum-Gwadar</td>\n",
       "      <td>NA-272</td>\n",
       "      <td>Wazir Ahmed Noorani</td>\n",
       "      <td>Tehreek Labbaik Pakistan</td>\n",
       "    </tr>\n",
       "  </tbody>\n",
       "</table>\n",
       "<p>3181 rows × 5 columns</p>\n",
       "</div>"
      ],
      "text/plain": [
       "     District                     Seat Constituency_title  \\\n",
       "0     Chitral                  Chitral               NA-1   \n",
       "1     Chitral                  Chitral               NA-1   \n",
       "2     Chitral                  Chitral               NA-1   \n",
       "3     Chitral                  Chitral               NA-1   \n",
       "4     Chitral                  Chitral               NA-1   \n",
       "5     Chitral                  Chitral               NA-1   \n",
       "6     Chitral                  Chitral               NA-1   \n",
       "7     Chitral                  Chitral               NA-1   \n",
       "8     Chitral                  Chitral               NA-1   \n",
       "9     Chitral                  Chitral               NA-1   \n",
       "10    Chitral                  Chitral               NA-1   \n",
       "11       Swat                   Swat-I              NA-2    \n",
       "12       Swat                   Swat-I              NA-2    \n",
       "13       Swat                   Swat-I              NA-2    \n",
       "14       Swat                   Swat-I              NA-2    \n",
       "15       Swat                   Swat-I              NA-2    \n",
       "16       Swat                   Swat-I              NA-2    \n",
       "17       Swat                   Swat-I              NA-2    \n",
       "18       Swat                   Swat-I              NA-2    \n",
       "19       Swat                   Swat-I              NA-2    \n",
       "20       Swat                   Swat-I              NA-2    \n",
       "21       Swat                  Swat-II               NA-3   \n",
       "22       Swat                  Swat-II               NA-3   \n",
       "23       Swat                  Swat-II               NA-3   \n",
       "24       Swat                  Swat-II               NA-3   \n",
       "25       Swat                  Swat-II               NA-3   \n",
       "26       Swat                  Swat-II               NA-3   \n",
       "27       Swat                  Swat-II               NA-3   \n",
       "28       Swat                  Swat-II               NA-3   \n",
       "29       Swat                 Swat-III               NA-4   \n",
       "...       ...                      ...                ...   \n",
       "3151  Panjgur  Panjgur-cum-Washuk-cum-             NA-270   \n",
       "3152  Panjgur  Panjgur-cum-Washuk-cum-             NA-270   \n",
       "3153     Kech                     Kech             NA-271   \n",
       "3154     Kech                     Kech             NA-271   \n",
       "3155     Kech                     Kech             NA-271   \n",
       "3156     Kech                     Kech             NA-271   \n",
       "3157     Kech                     Kech             NA-271   \n",
       "3158     Kech                     Kech             NA-271   \n",
       "3159     Kech                     Kech             NA-271   \n",
       "3160     Kech                     Kech             NA-271   \n",
       "3161     Kech                     Kech             NA-271   \n",
       "3162     Kech                     Kech             NA-271   \n",
       "3163     Kech                     Kech             NA-271   \n",
       "3164     Kech                     Kech             NA-271   \n",
       "3165     Kech                     Kech             NA-271   \n",
       "3166     Kech                     Kech             NA-271   \n",
       "3167     Kech                     Kech             NA-271   \n",
       "3168  Lasbela       Lasbela-cum-Gwadar             NA-272   \n",
       "3169  Lasbela       Lasbela-cum-Gwadar             NA-272   \n",
       "3170  Lasbela       Lasbela-cum-Gwadar             NA-272   \n",
       "3171  Lasbela       Lasbela-cum-Gwadar             NA-272   \n",
       "3172  Lasbela       Lasbela-cum-Gwadar             NA-272   \n",
       "3173  Lasbela       Lasbela-cum-Gwadar             NA-272   \n",
       "3174  Lasbela       Lasbela-cum-Gwadar             NA-272   \n",
       "3175  Lasbela       Lasbela-cum-Gwadar             NA-272   \n",
       "3176  Lasbela       Lasbela-cum-Gwadar             NA-272   \n",
       "3177  Lasbela       Lasbela-cum-Gwadar             NA-272   \n",
       "3178  Lasbela       Lasbela-cum-Gwadar             NA-272   \n",
       "3179  Lasbela       Lasbela-cum-Gwadar             NA-272   \n",
       "3180  Lasbela       Lasbela-cum-Gwadar             NA-272   \n",
       "\n",
       "                         Candidate_Name  \\\n",
       "0                      lftikhar ud Din    \n",
       "1                         Taqdira Ajmal   \n",
       "2                       Saeed Ur Rehman   \n",
       "3                           Saleem Khan   \n",
       "4     Shahzada Muharamad Taimur Khisrao   \n",
       "5                           Abdul Latif   \n",
       "6                         Eid ulHussain   \n",
       "7                        Mohammad Amjad   \n",
       "8                        Muhammad Yahya   \n",
       "9          Moulana Abdul Akbar Chitrali   \n",
       "10                       Nisar Dastager   \n",
       "11                       Amjad Ali Khan   \n",
       "12                           Amir Muqam   \n",
       "13                      Haider Ali Khan   \n",
       "14                           Said Qamar   \n",
       "15                       Ibadullah Khan   \n",
       "16                     Muhammad Mukhtar   \n",
       "17                       Miraj Muhammad   \n",
       "18            Malak Muhammad Didar Khan   \n",
       "19                         Mumtaz Ahmad   \n",
       "20                        Naveed lqbal    \n",
       "21                         Aftab Shahid   \n",
       "22                         Hujjat ullah   \n",
       "23                        Saleem Rehman   \n",
       "24                        Shakeel Ahmad   \n",
       "25                     Shahryar Amirzeb   \n",
       "26                          Abdul Karim   \n",
       "27                             Ali Khan   \n",
       "28         Mian Muhammad Shahbaz Sharif   \n",
       "29                              lbrahim   \n",
       "...                                 ...   \n",
       "3151   Meer Ahmed Nawaz Mohammad Hassni   \n",
       "3152           Meer Nazeer Ahmed Baloch   \n",
       "3153                      Abdul Hassan    \n",
       "3154                        Barkat Ali    \n",
       "3155                Jan Muhammad Dashti   \n",
       "3156        Hafiz Nasir ud Din Zamurani   \n",
       "3157                      Khalid Waleed   \n",
       "3158               Khalil Ahmed Bulidai   \n",
       "3159                      Zubaida Jalal   \n",
       "3160                   Sayed Ehsan Saha   \n",
       "3161                    Shay Brakat Ali   \n",
       "3162                      Abdul Rasheed   \n",
       "3163                         Atta Ullah   \n",
       "3164                  Mujeeb Ur Rehman    \n",
       "3165            Muhammad Ismail Bulidai   \n",
       "3166                     Manzoor Ahmed    \n",
       "3167                             Hotman   \n",
       "3168                       Allah Bakhsh   \n",
       "3169                     Jam Jamal Khan   \n",
       "3170                      Shakeel Ahmed   \n",
       "3171                          Attaullah   \n",
       "3172                          Ali Ahmed   \n",
       "3173                         Ali Baloch   \n",
       "3174                      Ghulam Sarwar   \n",
       "3175               Ghulam Mustafa Malik   \n",
       "3176             Mohammad Akhtar Mengal   \n",
       "3177            Mohammad Aslam Bhootani   \n",
       "3178                     Mohammad Akram   \n",
       "3179                 Nawab Khan Buzenjo   \n",
       "3180                Wazir Ahmed Noorani   \n",
       "\n",
       "                                        Party  \n",
       "0                   Pakistan Muslim League(N)  \n",
       "1                                 Independent  \n",
       "2                     Pakistan Rah-e-Haq Part  \n",
       "3     Pakistan Peoples Party Parliamentarians  \n",
       "4                                 Independent  \n",
       "5                    Pakistan Tehreek-e-lnsaf  \n",
       "6                        Awami National Party  \n",
       "7                  All Pakistan Muslim League  \n",
       "8                                 Independent  \n",
       "9            Muttahida MAJLIS-E-AMAL PAKISTAN  \n",
       "10                                Independent  \n",
       "11    Pakistan Peoples Party Parliamentarians  \n",
       "12                  Pakistan Muslim League(N)  \n",
       "13                   Pakistan Tehreek-e-lnsaf  \n",
       "14                                Independent  \n",
       "15                                Independent  \n",
       "16            Pashtoonkhwa Milli Avvami Party  \n",
       "17                                Independent  \n",
       "18                                Independent  \n",
       "19                       Awami National Party  \n",
       "20           Muttahida MAJLIS-E-AMAL PAKISTAN  \n",
       "21                                Independent  \n",
       "22                                Independent  \n",
       "23                   Pakistan Tehreek-e-lnsaf  \n",
       "24       Jamiat Ulmae Islam Nazryati Pakistan  \n",
       "25    Pakistan Peoples Party Parliamentarians  \n",
       "26                       Awami National Party  \n",
       "27                                Independent  \n",
       "28                  Pakistan Muslim League(N)  \n",
       "29                      Allah-o-Akbar Tehreek  \n",
       "...                                       ...  \n",
       "3151                              Independent  \n",
       "3152               Balochistan National Party  \n",
       "3153                           National Party  \n",
       "3154  Pakistan Peoples Party Parliamentarians  \n",
       "3155               Balochistan National Party  \n",
       "3156                              Independent  \n",
       "3157                              Independent  \n",
       "3158          Mutthida majlis-e-Amal Pakistan  \n",
       "3159                  Balochistan Awami Party  \n",
       "3160       Balochistan National Party (Awami)  \n",
       "3161                              Independent  \n",
       "3162                              Independent  \n",
       "3163               Pakistan Muslim League (N)  \n",
       "3164                    Allah-o-Akber Tehreek  \n",
       "3165                              Independent  \n",
       "3166                              Independent  \n",
       "3167                              Independent  \n",
       "3168          Mutthida majlis-e-Amal Pakistan  \n",
       "3169                  Balochistan Awami Party  \n",
       "3170                              Independent  \n",
       "3171       Balochistan National Party (Awami)  \n",
       "3172                 Pakistan Tehreek-e-Insaf  \n",
       "3173                              Independent  \n",
       "3174                              Independent  \n",
       "3175                              Independent  \n",
       "3176               Balochistan National Party  \n",
       "3177                              Independent  \n",
       "3178                      Pak Sarzameen Party  \n",
       "3179                       Amun Taraqqi Party  \n",
       "3180                 Tehreek Labbaik Pakistan  \n",
       "\n",
       "[3181 rows x 5 columns]"
      ]
     },
     "execution_count": 112,
     "metadata": {},
     "output_type": "execute_result"
    }
   ],
   "source": [
    "df = pd.read_csv('NA Candidate List.csv')\n",
    "df"
   ]
  },
  {
   "cell_type": "code",
   "execution_count": 113,
   "metadata": {},
   "outputs": [
    {
     "data": {
      "text/plain": [
       "Index(['District', 'Seat', 'Constituency_title', 'Candidate_Name', 'Party'], dtype='object')"
      ]
     },
     "execution_count": 113,
     "metadata": {},
     "output_type": "execute_result"
    }
   ],
   "source": [
    "df.columns"
   ]
  },
  {
   "cell_type": "code",
   "execution_count": 119,
   "metadata": {},
   "outputs": [
    {
     "data": {
      "text/plain": [
       "45      NA-5\n",
       "508    NA-44\n",
       "Name: Constituency_title, dtype: object"
      ]
     },
     "execution_count": 119,
     "metadata": {},
     "output_type": "execute_result"
    }
   ],
   "source": [
    "df[df.Candidate_Name.str.lower() == 'imran khan'].Constituency_title"
   ]
  },
  {
   "cell_type": "code",
   "execution_count": 120,
   "metadata": {},
   "outputs": [
    {
     "data": {
      "text/plain": [
       "3                             Saleem Khan\n",
       "11                         Amjad Ali Khan\n",
       "25                       Shahryar Amirzeb\n",
       "35                            Qamar Zaman\n",
       "49                         NAJMUDDIN KHAN\n",
       "51                           Ahmad Hassan\n",
       "60                  Syed Shahid Ahmed Jan\n",
       "67                 Bilawal Bhutto Zardari\n",
       "110                   Malak Nor Wali Shah\n",
       "114                      Sardar Malik Jan\n",
       "151          Sardar Manzoor Mumtaz Abbasi\n",
       "209                        Muhammad Naeem\n",
       "216                    Syed Abid Ali Shah\n",
       "886                           Hashim Khan\n",
       "907                  Azhar Iqbal Choudary\n",
       "930                         Wazir-Un-Nisa\n",
       "936                     Qamar Zaman Kaira\n",
       "951                          Nadeem Ashiq\n",
       "957         Syed Ishtiaq Ul Hassan Gilani\n",
       "968                   Zarra Mahmood Malik\n",
       "989                Zaheer Ul Hassan Rizvi\n",
       "1003                  Yasir Mushtaq Bajwa\n",
       "1013                       Muhammad Nawaz\n",
       "1031                Ch. Ijaz Ahmed Cheena\n",
       "1046                   Rao Ikram Ali Khan\n",
       "1066                  Muhammad Anas Amjad\n",
       "1072                          Ishaq Akbar\n",
       "1099                        Mian Asif Ali\n",
       "1103                    Zulfiqar Ali Khan\n",
       "1112                          Asif Bashir\n",
       "                      ...                \n",
       "2492                    Syed Naveed Qamar\n",
       "2678                    Syeda Shehla Raza\n",
       "2707          Mian waqar Akhtar paganwala\n",
       "2719                   Farooq Niaz Tanoli\n",
       "2728               Bilawal Bhutto Zardari\n",
       "2751                          abdul wahab\n",
       "2767                          sardar aziz\n",
       "2783                        fauzia hameed\n",
       "2795                            ali ahmed\n",
       "2809                 Muhammad  jameel zia\n",
       "2820                   Abdul Khaliq Mirza\n",
       "2832        Chaudary Muhammad Javed Ishaq\n",
       "2859                           Liza Mehdi\n",
       "2868                 Zafar Ahmed Siddiqui\n",
       "2885                    Syed Sajid Hassan\n",
       "2900                   Sheikh Imran babar\n",
       "2916               Sarbuland Khan Jogezai\n",
       "2933       Syed Abdul Ilayee Shah Rashidi\n",
       "2965                Shahmaz Naseer Baloch\n",
       "2989              Molvi Muhammad Abdullah\n",
       "3004              Malik Abdul Qayum Kakar\n",
       "3012                 Bismillah Khan Kakar\n",
       "3039               Muhammad Yousaf Khilji\n",
       "3044                      Rozi Khan Kakar\n",
       "3081             Meer Riaz Ahmed Shahwani\n",
       "3085                     AyatUllah Durani\n",
       "3107    Sardar Alhaj Muhmmad Umer Gorgage\n",
       "3128                        Adbdul Raheem\n",
       "3142                     Sabir Ali Baloch\n",
       "3154                          Barkat Ali \n",
       "Name: Candidate_Name, Length: 75, dtype: object"
      ]
     },
     "execution_count": 120,
     "metadata": {},
     "output_type": "execute_result"
    }
   ],
   "source": [
    "df[df.Party == 'Pakistan Peoples Party Parliamentarians'].Candidate_Name"
   ]
  },
  {
   "cell_type": "code",
   "execution_count": 121,
   "metadata": {},
   "outputs": [
    {
     "data": {
      "text/plain": [
       "District              75\n",
       "Seat                  75\n",
       "Constituency_title    75\n",
       "Candidate_Name        75\n",
       "Party                 75\n",
       "dtype: int64"
      ]
     },
     "execution_count": 121,
     "metadata": {},
     "output_type": "execute_result"
    }
   ],
   "source": [
    "df[df.Party == 'Pakistan Peoples Party Parliamentarians'].count()"
   ]
  },
  {
   "cell_type": "code",
   "execution_count": 128,
   "metadata": {},
   "outputs": [],
   "source": [
    "students= pd.DataFrame({'Name':['Ahsan' , 'Ali' , 'Umer' , 'Bilal' , 'Ahmed'],\n",
    "                        'age':np.random.randint(5,25 , size  = [5]),\n",
    "                        'Percent' : np.random.randint(50,90,size = [5])})"
   ]
  },
  {
   "cell_type": "code",
   "execution_count": 129,
   "metadata": {},
   "outputs": [
    {
     "data": {
      "text/html": [
       "<div>\n",
       "<style scoped>\n",
       "    .dataframe tbody tr th:only-of-type {\n",
       "        vertical-align: middle;\n",
       "    }\n",
       "\n",
       "    .dataframe tbody tr th {\n",
       "        vertical-align: top;\n",
       "    }\n",
       "\n",
       "    .dataframe thead th {\n",
       "        text-align: right;\n",
       "    }\n",
       "</style>\n",
       "<table border=\"1\" class=\"dataframe\">\n",
       "  <thead>\n",
       "    <tr style=\"text-align: right;\">\n",
       "      <th></th>\n",
       "      <th>Name</th>\n",
       "      <th>age</th>\n",
       "      <th>Percent</th>\n",
       "    </tr>\n",
       "  </thead>\n",
       "  <tbody>\n",
       "    <tr>\n",
       "      <th>0</th>\n",
       "      <td>Ahsan</td>\n",
       "      <td>8</td>\n",
       "      <td>52</td>\n",
       "    </tr>\n",
       "    <tr>\n",
       "      <th>1</th>\n",
       "      <td>Ali</td>\n",
       "      <td>16</td>\n",
       "      <td>83</td>\n",
       "    </tr>\n",
       "    <tr>\n",
       "      <th>2</th>\n",
       "      <td>Umer</td>\n",
       "      <td>6</td>\n",
       "      <td>53</td>\n",
       "    </tr>\n",
       "    <tr>\n",
       "      <th>3</th>\n",
       "      <td>Bilal</td>\n",
       "      <td>12</td>\n",
       "      <td>85</td>\n",
       "    </tr>\n",
       "    <tr>\n",
       "      <th>4</th>\n",
       "      <td>Ahmed</td>\n",
       "      <td>24</td>\n",
       "      <td>88</td>\n",
       "    </tr>\n",
       "  </tbody>\n",
       "</table>\n",
       "</div>"
      ],
      "text/plain": [
       "    Name  age  Percent\n",
       "0  Ahsan    8       52\n",
       "1    Ali   16       83\n",
       "2   Umer    6       53\n",
       "3  Bilal   12       85\n",
       "4  Ahmed   24       88"
      ]
     },
     "execution_count": 129,
     "metadata": {},
     "output_type": "execute_result"
    }
   ],
   "source": [
    "students"
   ]
  },
  {
   "cell_type": "code",
   "execution_count": 137,
   "metadata": {},
   "outputs": [],
   "source": [
    "def name(age):\n",
    "    if age < 18:\n",
    "        return 'Non-Adult'\n",
    "    else:\n",
    "        return 'Adult'"
   ]
  },
  {
   "cell_type": "code",
   "execution_count": 140,
   "metadata": {},
   "outputs": [],
   "source": [
    "students['Status'] = students['age'].map(name)"
   ]
  },
  {
   "cell_type": "code",
   "execution_count": 141,
   "metadata": {},
   "outputs": [
    {
     "data": {
      "text/html": [
       "<div>\n",
       "<style scoped>\n",
       "    .dataframe tbody tr th:only-of-type {\n",
       "        vertical-align: middle;\n",
       "    }\n",
       "\n",
       "    .dataframe tbody tr th {\n",
       "        vertical-align: top;\n",
       "    }\n",
       "\n",
       "    .dataframe thead th {\n",
       "        text-align: right;\n",
       "    }\n",
       "</style>\n",
       "<table border=\"1\" class=\"dataframe\">\n",
       "  <thead>\n",
       "    <tr style=\"text-align: right;\">\n",
       "      <th></th>\n",
       "      <th>Name</th>\n",
       "      <th>age</th>\n",
       "      <th>Percent</th>\n",
       "      <th>Status</th>\n",
       "    </tr>\n",
       "  </thead>\n",
       "  <tbody>\n",
       "    <tr>\n",
       "      <th>0</th>\n",
       "      <td>Ahsan</td>\n",
       "      <td>8</td>\n",
       "      <td>52</td>\n",
       "      <td>Non-Adult</td>\n",
       "    </tr>\n",
       "    <tr>\n",
       "      <th>1</th>\n",
       "      <td>Ali</td>\n",
       "      <td>16</td>\n",
       "      <td>83</td>\n",
       "      <td>Non-Adult</td>\n",
       "    </tr>\n",
       "    <tr>\n",
       "      <th>2</th>\n",
       "      <td>Umer</td>\n",
       "      <td>6</td>\n",
       "      <td>53</td>\n",
       "      <td>Non-Adult</td>\n",
       "    </tr>\n",
       "    <tr>\n",
       "      <th>3</th>\n",
       "      <td>Bilal</td>\n",
       "      <td>12</td>\n",
       "      <td>85</td>\n",
       "      <td>Non-Adult</td>\n",
       "    </tr>\n",
       "    <tr>\n",
       "      <th>4</th>\n",
       "      <td>Ahmed</td>\n",
       "      <td>24</td>\n",
       "      <td>88</td>\n",
       "      <td>Adult</td>\n",
       "    </tr>\n",
       "  </tbody>\n",
       "</table>\n",
       "</div>"
      ],
      "text/plain": [
       "    Name  age  Percent     Status\n",
       "0  Ahsan    8       52  Non-Adult\n",
       "1    Ali   16       83  Non-Adult\n",
       "2   Umer    6       53  Non-Adult\n",
       "3  Bilal   12       85  Non-Adult\n",
       "4  Ahmed   24       88      Adult"
      ]
     },
     "execution_count": 141,
     "metadata": {},
     "output_type": "execute_result"
    }
   ],
   "source": [
    "students"
   ]
  },
  {
   "cell_type": "code",
   "execution_count": null,
   "metadata": {},
   "outputs": [],
   "source": [
    "# "
   ]
  },
  {
   "cell_type": "code",
   "execution_count": null,
   "metadata": {},
   "outputs": [],
   "source": []
  },
  {
   "cell_type": "code",
   "execution_count": null,
   "metadata": {},
   "outputs": [],
   "source": []
  },
  {
   "cell_type": "code",
   "execution_count": null,
   "metadata": {},
   "outputs": [],
   "source": []
  },
  {
   "cell_type": "code",
   "execution_count": null,
   "metadata": {},
   "outputs": [],
   "source": []
  },
  {
   "cell_type": "code",
   "execution_count": null,
   "metadata": {},
   "outputs": [],
   "source": []
  },
  {
   "cell_type": "code",
   "execution_count": null,
   "metadata": {},
   "outputs": [],
   "source": []
  },
  {
   "cell_type": "code",
   "execution_count": null,
   "metadata": {},
   "outputs": [],
   "source": []
  },
  {
   "cell_type": "code",
   "execution_count": null,
   "metadata": {},
   "outputs": [],
   "source": []
  },
  {
   "cell_type": "code",
   "execution_count": null,
   "metadata": {},
   "outputs": [],
   "source": []
  },
  {
   "cell_type": "code",
   "execution_count": null,
   "metadata": {},
   "outputs": [],
   "source": []
  },
  {
   "cell_type": "code",
   "execution_count": null,
   "metadata": {},
   "outputs": [],
   "source": []
  },
  {
   "cell_type": "code",
   "execution_count": null,
   "metadata": {},
   "outputs": [],
   "source": []
  },
  {
   "cell_type": "code",
   "execution_count": null,
   "metadata": {},
   "outputs": [],
   "source": []
  },
  {
   "cell_type": "code",
   "execution_count": null,
   "metadata": {},
   "outputs": [],
   "source": []
  },
  {
   "cell_type": "code",
   "execution_count": null,
   "metadata": {},
   "outputs": [],
   "source": []
  },
  {
   "cell_type": "code",
   "execution_count": null,
   "metadata": {},
   "outputs": [],
   "source": []
  },
  {
   "cell_type": "code",
   "execution_count": null,
   "metadata": {},
   "outputs": [],
   "source": []
  }
 ],
 "metadata": {
  "kernelspec": {
   "display_name": "Python 3",
   "language": "python",
   "name": "python3"
  },
  "language_info": {
   "codemirror_mode": {
    "name": "ipython",
    "version": 3
   },
   "file_extension": ".py",
   "mimetype": "text/x-python",
   "name": "python",
   "nbconvert_exporter": "python",
   "pygments_lexer": "ipython3",
   "version": "3.7.3"
  }
 },
 "nbformat": 4,
 "nbformat_minor": 2
}
