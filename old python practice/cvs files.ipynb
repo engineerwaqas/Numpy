{
 "cells": [
  {
   "cell_type": "code",
   "execution_count": 1,
   "metadata": {},
   "outputs": [],
   "source": [
    "import csv\n"
   ]
  },
  {
   "cell_type": "code",
   "execution_count": 6,
   "metadata": {},
   "outputs": [
    {
     "name": "stdout",
     "output_type": "stream",
     "text": [
      "['    year', 'evenet', 'winner']\n",
      "['    1195', ' best', ' none']\n",
      "['    1999', ' tight', ' wrong']\n",
      "['    3434', ' lost', ' jam']\n"
     ]
    }
   ],
   "source": [
    "with open (\"abc.csv\", \"r\") as file:\n",
    "    contents = csv.reader(file)\n",
    "    for content in contents:\n",
    "        print(content)"
   ]
  },
  {
   "cell_type": "code",
   "execution_count": 9,
   "metadata": {},
   "outputs": [],
   "source": [
    "with open (\"xyz.csv\", \"w\", newline=\"\") as file:\n",
    "    fwriter = csv.writer(file)\n",
    "    fwriter.writerow([\"2019\", \"waqas\", \"python\"]) "
   ]
  },
  {
   "cell_type": "code",
   "execution_count": 10,
   "metadata": {},
   "outputs": [
    {
     "name": "stdout",
     "output_type": "stream",
     "text": [
      "['    year', 'evenet', 'winner']\n",
      "['    1195', ' best', ' none']\n",
      "['    1999', ' tight', ' wrong']\n",
      "['    3434', ' lost', ' jam']\n"
     ]
    }
   ],
   "source": [
    "with open (\"abc.csv\", \"r\") as file:\n",
    "    for contents in csv.reader(file):\n",
    "        print(contents)"
   ]
  },
  {
   "cell_type": "code",
   "execution_count": null,
   "metadata": {},
   "outputs": [],
   "source": []
  }
 ],
 "metadata": {
  "kernelspec": {
   "display_name": "Python 3",
   "language": "python",
   "name": "python3"
  },
  "language_info": {
   "codemirror_mode": {
    "name": "ipython",
    "version": 3
   },
   "file_extension": ".py",
   "mimetype": "text/x-python",
   "name": "python",
   "nbconvert_exporter": "python",
   "pygments_lexer": "ipython3",
   "version": "3.7.3"
  }
 },
 "nbformat": 4,
 "nbformat_minor": 2
}
